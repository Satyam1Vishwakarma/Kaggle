{
 "cells": [
  {
   "cell_type": "code",
   "execution_count": 1,
   "id": "4109dc4f",
   "metadata": {
    "_cell_guid": "b1076dfc-b9ad-4769-8c92-a6c4dae69d19",
    "_uuid": "8f2839f25d086af736a60e9eeb907d3b93b6e0e5",
    "execution": {
     "iopub.execute_input": "2025-08-18T12:39:50.970632Z",
     "iopub.status.busy": "2025-08-18T12:39:50.970355Z",
     "iopub.status.idle": "2025-08-18T12:39:53.005920Z",
     "shell.execute_reply": "2025-08-18T12:39:53.004932Z"
    },
    "papermill": {
     "duration": 2.041139,
     "end_time": "2025-08-18T12:39:53.007279",
     "exception": false,
     "start_time": "2025-08-18T12:39:50.966140",
     "status": "completed"
    },
    "tags": []
   },
   "outputs": [
    {
     "name": "stdout",
     "output_type": "stream",
     "text": [
      "/kaggle/input/benign-and-malicious-urls/balanced_urls.csv\n"
     ]
    }
   ],
   "source": [
    "# This Python 3 environment comes with many helpful analytics libraries installed\n",
    "# It is defined by the kaggle/python Docker image: https://github.com/kaggle/docker-python\n",
    "# For example, here's several helpful packages to load\n",
    "\n",
    "import numpy as np # linear algebra\n",
    "import pandas as pd # data processing, CSV file I/O (e.g. pd.read_csv)\n",
    "\n",
    "# Input data files are available in the read-only \"../input/\" directory\n",
    "# For example, running this (by clicking run or pressing Shift+Enter) will list all files under the input directory\n",
    "\n",
    "import os\n",
    "for dirname, _, filenames in os.walk('/kaggle/input'):\n",
    "    for filename in filenames:\n",
    "        print(os.path.join(dirname, filename))\n",
    "\n",
    "# You can write up to 20GB to the current directory (/kaggle/working/) that gets preserved as output when you create a version using \"Save & Run All\" \n",
    "# You can also write temporary files to /kaggle/temp/, but they won't be saved outside of the current session"
   ]
  },
  {
   "cell_type": "code",
   "execution_count": 2,
   "id": "9c0b4015",
   "metadata": {
    "execution": {
     "iopub.execute_input": "2025-08-18T12:39:53.013862Z",
     "iopub.status.busy": "2025-08-18T12:39:53.013464Z",
     "iopub.status.idle": "2025-08-18T12:40:53.470013Z",
     "shell.execute_reply": "2025-08-18T12:40:53.469104Z"
    },
    "papermill": {
     "duration": 60.460941,
     "end_time": "2025-08-18T12:40:53.471307",
     "exception": false,
     "start_time": "2025-08-18T12:39:53.010366",
     "status": "completed"
    },
    "tags": []
   },
   "outputs": [
    {
     "name": "stdout",
     "output_type": "stream",
     "text": [
      "[2025-08-18 12:40:09.855] [CUML] [info] cuML: Installed accelerator for sklearn.\n"
     ]
    },
    {
     "name": "stderr",
     "output_type": "stream",
     "text": [
      "2025-08-18 12:40:26.774859: E external/local_xla/xla/stream_executor/cuda/cuda_fft.cc:477] Unable to register cuFFT factory: Attempting to register factory for plugin cuFFT when one has already been registered\n",
      "WARNING: All log messages before absl::InitializeLog() is called are written to STDERR\n",
      "E0000 00:00:1755520827.126764      19 cuda_dnn.cc:8310] Unable to register cuDNN factory: Attempting to register factory for plugin cuDNN when one has already been registered\n",
      "E0000 00:00:1755520827.228790      19 cuda_blas.cc:1418] Unable to register cuBLAS factory: Attempting to register factory for plugin cuBLAS when one has already been registered\n"
     ]
    },
    {
     "name": "stdout",
     "output_type": "stream",
     "text": [
      "[2025-08-18 12:40:53.321] [CUML] [info] cuML: Installed accelerator for umap.\n",
      "[2025-08-18 12:40:53.430] [CUML] [info] cuML: Installed accelerator for hdbscan.\n",
      "[2025-08-18 12:40:53.430] [CUML] [info] cuML: Successfully initialized accelerator.\n"
     ]
    }
   ],
   "source": [
    "%load_ext cuml.accel\n",
    "from sklearn.feature_extraction.text import TfidfVectorizer\n",
    "from sklearn.preprocessing import FunctionTransformer\n",
    "from sklearn.compose import ColumnTransformer\n",
    "from sklearn.pipeline import Pipeline\n",
    "from sklearn.linear_model import LogisticRegression\n",
    "from sklearn.model_selection import train_test_split\n",
    "from sklearn.metrics import classification_report, accuracy_score\n",
    "\n",
    "import joblib"
   ]
  },
  {
   "cell_type": "code",
   "execution_count": 3,
   "id": "b0c05d64",
   "metadata": {
    "execution": {
     "iopub.execute_input": "2025-08-18T12:40:53.478455Z",
     "iopub.status.busy": "2025-08-18T12:40:53.477916Z",
     "iopub.status.idle": "2025-08-18T12:40:54.829086Z",
     "shell.execute_reply": "2025-08-18T12:40:54.828344Z"
    },
    "papermill": {
     "duration": 1.355787,
     "end_time": "2025-08-18T12:40:54.830222",
     "exception": false,
     "start_time": "2025-08-18T12:40:53.474435",
     "status": "completed"
    },
    "tags": []
   },
   "outputs": [
    {
     "data": {
      "text/html": [
       "<div>\n",
       "<style scoped>\n",
       "    .dataframe tbody tr th:only-of-type {\n",
       "        vertical-align: middle;\n",
       "    }\n",
       "\n",
       "    .dataframe tbody tr th {\n",
       "        vertical-align: top;\n",
       "    }\n",
       "\n",
       "    .dataframe thead th {\n",
       "        text-align: right;\n",
       "    }\n",
       "</style>\n",
       "<table border=\"1\" class=\"dataframe\">\n",
       "  <thead>\n",
       "    <tr style=\"text-align: right;\">\n",
       "      <th></th>\n",
       "      <th>url</th>\n",
       "      <th>label</th>\n",
       "      <th>result</th>\n",
       "    </tr>\n",
       "  </thead>\n",
       "  <tbody>\n",
       "    <tr>\n",
       "      <th>0</th>\n",
       "      <td>https://www.google.com</td>\n",
       "      <td>benign</td>\n",
       "      <td>0</td>\n",
       "    </tr>\n",
       "    <tr>\n",
       "      <th>1</th>\n",
       "      <td>https://www.youtube.com</td>\n",
       "      <td>benign</td>\n",
       "      <td>0</td>\n",
       "    </tr>\n",
       "    <tr>\n",
       "      <th>2</th>\n",
       "      <td>https://www.facebook.com</td>\n",
       "      <td>benign</td>\n",
       "      <td>0</td>\n",
       "    </tr>\n",
       "    <tr>\n",
       "      <th>3</th>\n",
       "      <td>https://www.baidu.com</td>\n",
       "      <td>benign</td>\n",
       "      <td>0</td>\n",
       "    </tr>\n",
       "    <tr>\n",
       "      <th>4</th>\n",
       "      <td>https://www.wikipedia.org</td>\n",
       "      <td>benign</td>\n",
       "      <td>0</td>\n",
       "    </tr>\n",
       "  </tbody>\n",
       "</table>\n",
       "</div>"
      ],
      "text/plain": [
       "                         url   label  result\n",
       "0     https://www.google.com  benign       0\n",
       "1    https://www.youtube.com  benign       0\n",
       "2   https://www.facebook.com  benign       0\n",
       "3      https://www.baidu.com  benign       0\n",
       "4  https://www.wikipedia.org  benign       0"
      ]
     },
     "execution_count": 3,
     "metadata": {},
     "output_type": "execute_result"
    }
   ],
   "source": [
    "df=pd.read_csv(\"/kaggle/input/benign-and-malicious-urls/balanced_urls.csv\")\n",
    "df.head()"
   ]
  },
  {
   "cell_type": "code",
   "execution_count": 4,
   "id": "2f364af6",
   "metadata": {
    "execution": {
     "iopub.execute_input": "2025-08-18T12:40:54.837342Z",
     "iopub.status.busy": "2025-08-18T12:40:54.837092Z",
     "iopub.status.idle": "2025-08-18T12:40:54.860553Z",
     "shell.execute_reply": "2025-08-18T12:40:54.859723Z"
    },
    "papermill": {
     "duration": 0.028525,
     "end_time": "2025-08-18T12:40:54.861898",
     "exception": false,
     "start_time": "2025-08-18T12:40:54.833373",
     "status": "completed"
    },
    "tags": []
   },
   "outputs": [],
   "source": [
    "X=df[[\"url\"]]\n",
    "y=df[\"result\"]"
   ]
  },
  {
   "cell_type": "code",
   "execution_count": 5,
   "id": "5ea1e30c",
   "metadata": {
    "execution": {
     "iopub.execute_input": "2025-08-18T12:40:54.868479Z",
     "iopub.status.busy": "2025-08-18T12:40:54.868078Z",
     "iopub.status.idle": "2025-08-18T12:40:54.872514Z",
     "shell.execute_reply": "2025-08-18T12:40:54.872035Z"
    },
    "papermill": {
     "duration": 0.008965,
     "end_time": "2025-08-18T12:40:54.873661",
     "exception": false,
     "start_time": "2025-08-18T12:40:54.864696",
     "status": "completed"
    },
    "tags": []
   },
   "outputs": [],
   "source": [
    "def add_url_features(X):\n",
    "    df_temp = pd.DataFrame({\"url\": X})\n",
    "    df_temp[\"https\"] = df_temp[\"url\"].str.contains(\"https\").astype(int)\n",
    "    df_temp[\"length\"] = df_temp[\"url\"].str.len()\n",
    "    df_temp[\"num_digits\"] = df_temp[\"url\"].str.count(r'\\d')\n",
    "    df_temp[\"dots\"] = df_temp[\"url\"].str.count(r'\\.')\n",
    "    df_temp[\"at_symbol\"] = df_temp[\"url\"].str.contains(\"@\").astype(int)\n",
    "    df_temp[\"hyphen_count\"] = df_temp[\"url\"].str.count(\"-\")\n",
    "    return df_temp[[\"https\",\"length\",\"num_digits\",\"dots\",\"at_symbol\",\"hyphen_count\"]]"
   ]
  },
  {
   "cell_type": "code",
   "execution_count": 6,
   "id": "f8b4da94",
   "metadata": {
    "execution": {
     "iopub.execute_input": "2025-08-18T12:40:54.879957Z",
     "iopub.status.busy": "2025-08-18T12:40:54.879755Z",
     "iopub.status.idle": "2025-08-18T12:40:54.882922Z",
     "shell.execute_reply": "2025-08-18T12:40:54.882354Z"
    },
    "papermill": {
     "duration": 0.007579,
     "end_time": "2025-08-18T12:40:54.884075",
     "exception": false,
     "start_time": "2025-08-18T12:40:54.876496",
     "status": "completed"
    },
    "tags": []
   },
   "outputs": [],
   "source": [
    "feature_transformer = FunctionTransformer(add_url_features, validate=False)"
   ]
  },
  {
   "cell_type": "code",
   "execution_count": 7,
   "id": "565a9571",
   "metadata": {
    "execution": {
     "iopub.execute_input": "2025-08-18T12:40:54.890051Z",
     "iopub.status.busy": "2025-08-18T12:40:54.889867Z",
     "iopub.status.idle": "2025-08-18T12:40:54.893592Z",
     "shell.execute_reply": "2025-08-18T12:40:54.893032Z"
    },
    "papermill": {
     "duration": 0.008063,
     "end_time": "2025-08-18T12:40:54.894716",
     "exception": false,
     "start_time": "2025-08-18T12:40:54.886653",
     "status": "completed"
    },
    "tags": []
   },
   "outputs": [],
   "source": [
    "preprocessor = ColumnTransformer(\n",
    "    transformers=[\n",
    "        (\"tfidf\", TfidfVectorizer(analyzer=\"char\", ngram_range=(3,5), max_features=5000), \"url\"),\n",
    "        (\"custom\", feature_transformer, \"url\")\n",
    "    ]\n",
    ")"
   ]
  },
  {
   "cell_type": "code",
   "execution_count": 8,
   "id": "b21f9ea6",
   "metadata": {
    "execution": {
     "iopub.execute_input": "2025-08-18T12:40:54.901290Z",
     "iopub.status.busy": "2025-08-18T12:40:54.900676Z",
     "iopub.status.idle": "2025-08-18T12:40:54.904881Z",
     "shell.execute_reply": "2025-08-18T12:40:54.904350Z"
    },
    "papermill": {
     "duration": 0.008506,
     "end_time": "2025-08-18T12:40:54.905971",
     "exception": false,
     "start_time": "2025-08-18T12:40:54.897465",
     "status": "completed"
    },
    "tags": []
   },
   "outputs": [],
   "source": [
    "pipeline = Pipeline([\n",
    "    (\"features\", preprocessor),\n",
    "    (\"clf\", LogisticRegression(max_iter=2000))\n",
    "])"
   ]
  },
  {
   "cell_type": "code",
   "execution_count": 9,
   "id": "2caf273b",
   "metadata": {
    "execution": {
     "iopub.execute_input": "2025-08-18T12:40:54.912012Z",
     "iopub.status.busy": "2025-08-18T12:40:54.911783Z",
     "iopub.status.idle": "2025-08-18T12:40:55.183398Z",
     "shell.execute_reply": "2025-08-18T12:40:55.182655Z"
    },
    "papermill": {
     "duration": 0.276051,
     "end_time": "2025-08-18T12:40:55.184860",
     "exception": false,
     "start_time": "2025-08-18T12:40:54.908809",
     "status": "completed"
    },
    "tags": []
   },
   "outputs": [],
   "source": [
    "X_train, X_test, y_train, y_test = train_test_split(X, y, test_size=0.2, random_state=42, stratify=y)"
   ]
  },
  {
   "cell_type": "code",
   "execution_count": 10,
   "id": "2ef950dc",
   "metadata": {
    "execution": {
     "iopub.execute_input": "2025-08-18T12:40:55.191479Z",
     "iopub.status.busy": "2025-08-18T12:40:55.191113Z",
     "iopub.status.idle": "2025-08-18T12:42:43.218120Z",
     "shell.execute_reply": "2025-08-18T12:42:43.217367Z"
    },
    "papermill": {
     "duration": 108.033458,
     "end_time": "2025-08-18T12:42:43.221352",
     "exception": false,
     "start_time": "2025-08-18T12:40:55.187894",
     "status": "completed"
    },
    "tags": []
   },
   "outputs": [
    {
     "name": "stdout",
     "output_type": "stream",
     "text": [
      "[2025-08-18 12:42:43.147] [CUML] [warning] L-BFGS: max iterations reached\n",
      "[2025-08-18 12:42:43.147] [CUML] [warning] Maximum iterations reached before solver is converged. To increase model accuracy you can increase the number of iterations (max_iter) or improve the scaling of the input data.\n"
     ]
    },
    {
     "data": {
      "text/html": [
       "<style>#sk-container-id-1 {color: black;background-color: white;}#sk-container-id-1 pre{padding: 0;}#sk-container-id-1 div.sk-toggleable {background-color: white;}#sk-container-id-1 label.sk-toggleable__label {cursor: pointer;display: block;width: 100%;margin-bottom: 0;padding: 0.3em;box-sizing: border-box;text-align: center;}#sk-container-id-1 label.sk-toggleable__label-arrow:before {content: \"▸\";float: left;margin-right: 0.25em;color: #696969;}#sk-container-id-1 label.sk-toggleable__label-arrow:hover:before {color: black;}#sk-container-id-1 div.sk-estimator:hover label.sk-toggleable__label-arrow:before {color: black;}#sk-container-id-1 div.sk-toggleable__content {max-height: 0;max-width: 0;overflow: hidden;text-align: left;background-color: #f0f8ff;}#sk-container-id-1 div.sk-toggleable__content pre {margin: 0.2em;color: black;border-radius: 0.25em;background-color: #f0f8ff;}#sk-container-id-1 input.sk-toggleable__control:checked~div.sk-toggleable__content {max-height: 200px;max-width: 100%;overflow: auto;}#sk-container-id-1 input.sk-toggleable__control:checked~label.sk-toggleable__label-arrow:before {content: \"▾\";}#sk-container-id-1 div.sk-estimator input.sk-toggleable__control:checked~label.sk-toggleable__label {background-color: #d4ebff;}#sk-container-id-1 div.sk-label input.sk-toggleable__control:checked~label.sk-toggleable__label {background-color: #d4ebff;}#sk-container-id-1 input.sk-hidden--visually {border: 0;clip: rect(1px 1px 1px 1px);clip: rect(1px, 1px, 1px, 1px);height: 1px;margin: -1px;overflow: hidden;padding: 0;position: absolute;width: 1px;}#sk-container-id-1 div.sk-estimator {font-family: monospace;background-color: #f0f8ff;border: 1px dotted black;border-radius: 0.25em;box-sizing: border-box;margin-bottom: 0.5em;}#sk-container-id-1 div.sk-estimator:hover {background-color: #d4ebff;}#sk-container-id-1 div.sk-parallel-item::after {content: \"\";width: 100%;border-bottom: 1px solid gray;flex-grow: 1;}#sk-container-id-1 div.sk-label:hover label.sk-toggleable__label {background-color: #d4ebff;}#sk-container-id-1 div.sk-serial::before {content: \"\";position: absolute;border-left: 1px solid gray;box-sizing: border-box;top: 0;bottom: 0;left: 50%;z-index: 0;}#sk-container-id-1 div.sk-serial {display: flex;flex-direction: column;align-items: center;background-color: white;padding-right: 0.2em;padding-left: 0.2em;position: relative;}#sk-container-id-1 div.sk-item {position: relative;z-index: 1;}#sk-container-id-1 div.sk-parallel {display: flex;align-items: stretch;justify-content: center;background-color: white;position: relative;}#sk-container-id-1 div.sk-item::before, #sk-container-id-1 div.sk-parallel-item::before {content: \"\";position: absolute;border-left: 1px solid gray;box-sizing: border-box;top: 0;bottom: 0;left: 50%;z-index: -1;}#sk-container-id-1 div.sk-parallel-item {display: flex;flex-direction: column;z-index: 1;position: relative;background-color: white;}#sk-container-id-1 div.sk-parallel-item:first-child::after {align-self: flex-end;width: 50%;}#sk-container-id-1 div.sk-parallel-item:last-child::after {align-self: flex-start;width: 50%;}#sk-container-id-1 div.sk-parallel-item:only-child::after {width: 0;}#sk-container-id-1 div.sk-dashed-wrapped {border: 1px dashed gray;margin: 0 0.4em 0.5em 0.4em;box-sizing: border-box;padding-bottom: 0.4em;background-color: white;}#sk-container-id-1 div.sk-label label {font-family: monospace;font-weight: bold;display: inline-block;line-height: 1.2em;}#sk-container-id-1 div.sk-label-container {text-align: center;}#sk-container-id-1 div.sk-container {/* jupyter's `normalize.less` sets `[hidden] { display: none; }` but bootstrap.min.css set `[hidden] { display: none !important; }` so we also need the `!important` here to be able to override the default hidden behavior on the sphinx rendered scikit-learn.org. See: https://github.com/scikit-learn/scikit-learn/issues/21755 */display: inline-block !important;position: relative;}#sk-container-id-1 div.sk-text-repr-fallback {display: none;}</style><div id=\"sk-container-id-1\" class=\"sk-top-container\"><div class=\"sk-text-repr-fallback\"><pre>Pipeline(steps=[(&#x27;features&#x27;,\n",
       "                 ColumnTransformer(transformers=[(&#x27;tfidf&#x27;,\n",
       "                                                  TfidfVectorizer(analyzer=&#x27;char&#x27;,\n",
       "                                                                  max_features=5000,\n",
       "                                                                  ngram_range=(3,\n",
       "                                                                               5)),\n",
       "                                                  &#x27;url&#x27;),\n",
       "                                                 (&#x27;custom&#x27;,\n",
       "                                                  FunctionTransformer(func=&lt;function add_url_features at 0x78b1a5120ae0&gt;),\n",
       "                                                  &#x27;url&#x27;)])),\n",
       "                (&#x27;clf&#x27;, LogisticRegression(max_iter=2000))])</pre><b>In a Jupyter environment, please rerun this cell to show the HTML representation or trust the notebook. <br />On GitHub, the HTML representation is unable to render, please try loading this page with nbviewer.org.</b></div><div class=\"sk-container\" hidden><div class=\"sk-item sk-dashed-wrapped\"><div class=\"sk-label-container\"><div class=\"sk-label sk-toggleable\"><input class=\"sk-toggleable__control sk-hidden--visually\" id=\"sk-estimator-id-1\" type=\"checkbox\" ><label for=\"sk-estimator-id-1\" class=\"sk-toggleable__label sk-toggleable__label-arrow\">Pipeline</label><div class=\"sk-toggleable__content\"><pre>Pipeline(steps=[(&#x27;features&#x27;,\n",
       "                 ColumnTransformer(transformers=[(&#x27;tfidf&#x27;,\n",
       "                                                  TfidfVectorizer(analyzer=&#x27;char&#x27;,\n",
       "                                                                  max_features=5000,\n",
       "                                                                  ngram_range=(3,\n",
       "                                                                               5)),\n",
       "                                                  &#x27;url&#x27;),\n",
       "                                                 (&#x27;custom&#x27;,\n",
       "                                                  FunctionTransformer(func=&lt;function add_url_features at 0x78b1a5120ae0&gt;),\n",
       "                                                  &#x27;url&#x27;)])),\n",
       "                (&#x27;clf&#x27;, LogisticRegression(max_iter=2000))])</pre></div></div></div><div class=\"sk-serial\"><div class=\"sk-item sk-dashed-wrapped\"><div class=\"sk-label-container\"><div class=\"sk-label sk-toggleable\"><input class=\"sk-toggleable__control sk-hidden--visually\" id=\"sk-estimator-id-2\" type=\"checkbox\" ><label for=\"sk-estimator-id-2\" class=\"sk-toggleable__label sk-toggleable__label-arrow\">features: ColumnTransformer</label><div class=\"sk-toggleable__content\"><pre>ColumnTransformer(transformers=[(&#x27;tfidf&#x27;,\n",
       "                                 TfidfVectorizer(analyzer=&#x27;char&#x27;,\n",
       "                                                 max_features=5000,\n",
       "                                                 ngram_range=(3, 5)),\n",
       "                                 &#x27;url&#x27;),\n",
       "                                (&#x27;custom&#x27;,\n",
       "                                 FunctionTransformer(func=&lt;function add_url_features at 0x78b1a5120ae0&gt;),\n",
       "                                 &#x27;url&#x27;)])</pre></div></div></div><div class=\"sk-parallel\"><div class=\"sk-parallel-item\"><div class=\"sk-item\"><div class=\"sk-label-container\"><div class=\"sk-label sk-toggleable\"><input class=\"sk-toggleable__control sk-hidden--visually\" id=\"sk-estimator-id-3\" type=\"checkbox\" ><label for=\"sk-estimator-id-3\" class=\"sk-toggleable__label sk-toggleable__label-arrow\">tfidf</label><div class=\"sk-toggleable__content\"><pre>url</pre></div></div></div><div class=\"sk-serial\"><div class=\"sk-item\"><div class=\"sk-estimator sk-toggleable\"><input class=\"sk-toggleable__control sk-hidden--visually\" id=\"sk-estimator-id-4\" type=\"checkbox\" ><label for=\"sk-estimator-id-4\" class=\"sk-toggleable__label sk-toggleable__label-arrow\">TfidfVectorizer</label><div class=\"sk-toggleable__content\"><pre>TfidfVectorizer(analyzer=&#x27;char&#x27;, max_features=5000, ngram_range=(3, 5))</pre></div></div></div></div></div></div><div class=\"sk-parallel-item\"><div class=\"sk-item\"><div class=\"sk-label-container\"><div class=\"sk-label sk-toggleable\"><input class=\"sk-toggleable__control sk-hidden--visually\" id=\"sk-estimator-id-5\" type=\"checkbox\" ><label for=\"sk-estimator-id-5\" class=\"sk-toggleable__label sk-toggleable__label-arrow\">custom</label><div class=\"sk-toggleable__content\"><pre>url</pre></div></div></div><div class=\"sk-serial\"><div class=\"sk-item\"><div class=\"sk-estimator sk-toggleable\"><input class=\"sk-toggleable__control sk-hidden--visually\" id=\"sk-estimator-id-6\" type=\"checkbox\" ><label for=\"sk-estimator-id-6\" class=\"sk-toggleable__label sk-toggleable__label-arrow\">FunctionTransformer</label><div class=\"sk-toggleable__content\"><pre>FunctionTransformer(func=&lt;function add_url_features at 0x78b1a5120ae0&gt;)</pre></div></div></div></div></div></div></div></div><div class=\"sk-item\"><div class=\"sk-estimator sk-toggleable\"><input class=\"sk-toggleable__control sk-hidden--visually\" id=\"sk-estimator-id-7\" type=\"checkbox\" ><label for=\"sk-estimator-id-7\" class=\"sk-toggleable__label sk-toggleable__label-arrow\">LogisticRegression</label><div class=\"sk-toggleable__content\"><pre>LogisticRegression(max_iter=2000)</pre></div></div></div></div></div></div></div>"
      ],
      "text/plain": [
       "Pipeline(steps=[('features',\n",
       "                 ColumnTransformer(transformers=[('tfidf',\n",
       "                                                  TfidfVectorizer(analyzer='char',\n",
       "                                                                  max_features=5000,\n",
       "                                                                  ngram_range=(3,\n",
       "                                                                               5)),\n",
       "                                                  'url'),\n",
       "                                                 ('custom',\n",
       "                                                  FunctionTransformer(func=<function add_url_features at 0x78b1a5120ae0>),\n",
       "                                                  'url')])),\n",
       "                ('clf', LogisticRegression(max_iter=2000))])"
      ]
     },
     "execution_count": 10,
     "metadata": {},
     "output_type": "execute_result"
    }
   ],
   "source": [
    "pipeline.fit(X_train, y_train)"
   ]
  },
  {
   "cell_type": "code",
   "execution_count": 11,
   "id": "b0d2cc67",
   "metadata": {
    "execution": {
     "iopub.execute_input": "2025-08-18T12:42:43.228700Z",
     "iopub.status.busy": "2025-08-18T12:42:43.228449Z",
     "iopub.status.idle": "2025-08-18T12:42:56.309591Z",
     "shell.execute_reply": "2025-08-18T12:42:56.308997Z"
    },
    "papermill": {
     "duration": 13.086347,
     "end_time": "2025-08-18T12:42:56.311043",
     "exception": false,
     "start_time": "2025-08-18T12:42:43.224696",
     "status": "completed"
    },
    "tags": []
   },
   "outputs": [],
   "source": [
    "# --- Predict ---\n",
    "y_pred = pipeline.predict(X_test)"
   ]
  },
  {
   "cell_type": "code",
   "execution_count": 12,
   "id": "2638c5b9",
   "metadata": {
    "execution": {
     "iopub.execute_input": "2025-08-18T12:42:56.318793Z",
     "iopub.status.busy": "2025-08-18T12:42:56.318299Z",
     "iopub.status.idle": "2025-08-18T12:42:56.374189Z",
     "shell.execute_reply": "2025-08-18T12:42:56.373155Z"
    },
    "papermill": {
     "duration": 0.060952,
     "end_time": "2025-08-18T12:42:56.375478",
     "exception": false,
     "start_time": "2025-08-18T12:42:56.314526",
     "status": "completed"
    },
    "tags": []
   },
   "outputs": [
    {
     "name": "stdout",
     "output_type": "stream",
     "text": [
      "Accuracy: 0.9974703957249688\n",
      "\n",
      "Classification Report:\n",
      "               precision    recall  f1-score   support\n",
      "\n",
      "           0       1.00      1.00      1.00     63251\n",
      "           1       1.00      1.00      1.00     63251\n",
      "\n",
      "    accuracy                           1.00    126502\n",
      "   macro avg       1.00      1.00      1.00    126502\n",
      "weighted avg       1.00      1.00      1.00    126502\n",
      "\n"
     ]
    }
   ],
   "source": [
    "# --- Evaluate ---\n",
    "print(\"Accuracy:\", accuracy_score(y_test, y_pred))\n",
    "print(\"\\nClassification Report:\\n\", classification_report(y_test, y_pred))"
   ]
  },
  {
   "cell_type": "code",
   "execution_count": 13,
   "id": "52ce3d18",
   "metadata": {
    "execution": {
     "iopub.execute_input": "2025-08-18T12:42:56.382516Z",
     "iopub.status.busy": "2025-08-18T12:42:56.382279Z",
     "iopub.status.idle": "2025-08-18T12:43:07.676536Z",
     "shell.execute_reply": "2025-08-18T12:43:07.675751Z"
    },
    "papermill": {
     "duration": 11.299074,
     "end_time": "2025-08-18T12:43:07.677815",
     "exception": false,
     "start_time": "2025-08-18T12:42:56.378741",
     "status": "completed"
    },
    "tags": []
   },
   "outputs": [
    {
     "data": {
      "text/plain": [
       "['url_model.pkl']"
      ]
     },
     "execution_count": 13,
     "metadata": {},
     "output_type": "execute_result"
    }
   ],
   "source": [
    "joblib.dump(pipeline, \"url_model.pkl\")"
   ]
  },
  {
   "cell_type": "code",
   "execution_count": 14,
   "id": "3839f47e",
   "metadata": {
    "execution": {
     "iopub.execute_input": "2025-08-18T12:43:07.685153Z",
     "iopub.status.busy": "2025-08-18T12:43:07.684899Z",
     "iopub.status.idle": "2025-08-18T12:43:13.315328Z",
     "shell.execute_reply": "2025-08-18T12:43:13.314334Z"
    },
    "papermill": {
     "duration": 5.635665,
     "end_time": "2025-08-18T12:43:13.316899",
     "exception": false,
     "start_time": "2025-08-18T12:43:07.681234",
     "status": "completed"
    },
    "tags": []
   },
   "outputs": [
    {
     "name": "stdout",
     "output_type": "stream",
     "text": [
      "[1]\n"
     ]
    }
   ],
   "source": [
    "pipeline = joblib.load(\"url_model.pkl\")\n",
    "\n",
    "# New URL\n",
    "df = pd.DataFrame({\"url\": [\"http://badwebsite.com/login\"]})\n",
    "print(pipeline.predict(df))   # uses saved TF-IDF vocab + model"
   ]
  }
 ],
 "metadata": {
  "kaggle": {
   "accelerator": "nvidiaTeslaT4",
   "dataSources": [
    {
     "datasetId": 2378722,
     "sourceId": 4012851,
     "sourceType": "datasetVersion"
    }
   ],
   "dockerImageVersionId": 31090,
   "isGpuEnabled": true,
   "isInternetEnabled": true,
   "language": "python",
   "sourceType": "notebook"
  },
  "kernelspec": {
   "display_name": "Python 3",
   "language": "python",
   "name": "python3"
  },
  "language_info": {
   "codemirror_mode": {
    "name": "ipython",
    "version": 3
   },
   "file_extension": ".py",
   "mimetype": "text/x-python",
   "name": "python",
   "nbconvert_exporter": "python",
   "pygments_lexer": "ipython3",
   "version": "3.11.13"
  },
  "papermill": {
   "default_parameters": {},
   "duration": 212.09655,
   "end_time": "2025-08-18T12:43:17.057239",
   "environment_variables": {},
   "exception": null,
   "input_path": "__notebook__.ipynb",
   "output_path": "__notebook__.ipynb",
   "parameters": {},
   "start_time": "2025-08-18T12:39:44.960689",
   "version": "2.6.0"
  }
 },
 "nbformat": 4,
 "nbformat_minor": 5
}
