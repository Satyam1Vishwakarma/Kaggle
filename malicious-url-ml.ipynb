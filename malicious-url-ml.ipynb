{
 "cells": [
  {
   "cell_type": "code",
   "execution_count": 1,
   "id": "f7bdbdf8",
   "metadata": {
    "_cell_guid": "b1076dfc-b9ad-4769-8c92-a6c4dae69d19",
    "_uuid": "8f2839f25d086af736a60e9eeb907d3b93b6e0e5",
    "execution": {
     "iopub.execute_input": "2025-08-26T07:15:52.922661Z",
     "iopub.status.busy": "2025-08-26T07:15:52.922463Z",
     "iopub.status.idle": "2025-08-26T07:15:54.289903Z",
     "shell.execute_reply": "2025-08-26T07:15:54.289167Z"
    },
    "papermill": {
     "duration": 1.373518,
     "end_time": "2025-08-26T07:15:54.291192",
     "exception": false,
     "start_time": "2025-08-26T07:15:52.917674",
     "status": "completed"
    },
    "tags": []
   },
   "outputs": [
    {
     "name": "stdout",
     "output_type": "stream",
     "text": [
      "/kaggle/input/benign-and-malicious-urls/balanced_urls.csv\n"
     ]
    }
   ],
   "source": [
    "# This Python 3 environment comes with many helpful analytics libraries installed\n",
    "# It is defined by the kaggle/python Docker image: https://github.com/kaggle/docker-python\n",
    "# For example, here's several helpful packages to load\n",
    "\n",
    "import numpy as np # linear algebra\n",
    "import pandas as pd # data processing, CSV file I/O (e.g. pd.read_csv)\n",
    "\n",
    "# Input data files are available in the read-only \"../input/\" directory\n",
    "# For example, running this (by clicking run or pressing Shift+Enter) will list all files under the input directory\n",
    "\n",
    "import os\n",
    "for dirname, _, filenames in os.walk('/kaggle/input'):\n",
    "    for filename in filenames:\n",
    "        print(os.path.join(dirname, filename))\n",
    "\n",
    "# You can write up to 20GB to the current directory (/kaggle/working/) that gets preserved as output when you create a version using \"Save & Run All\" \n",
    "# You can also write temporary files to /kaggle/temp/, but they won't be saved outside of the current session"
   ]
  },
  {
   "cell_type": "code",
   "execution_count": 2,
   "id": "6c2e7d75",
   "metadata": {
    "execution": {
     "iopub.execute_input": "2025-08-26T07:15:54.298989Z",
     "iopub.status.busy": "2025-08-26T07:15:54.298328Z",
     "iopub.status.idle": "2025-08-26T07:15:54.420272Z",
     "shell.execute_reply": "2025-08-26T07:15:54.419377Z"
    },
    "papermill": {
     "duration": 0.126891,
     "end_time": "2025-08-26T07:15:54.421475",
     "exception": false,
     "start_time": "2025-08-26T07:15:54.294584",
     "status": "completed"
    },
    "tags": []
   },
   "outputs": [
    {
     "name": "stdout",
     "output_type": "stream",
     "text": [
      "Python 3.11.13\r\n"
     ]
    }
   ],
   "source": [
    "!python --version"
   ]
  },
  {
   "cell_type": "code",
   "execution_count": 3,
   "id": "1e48ce10",
   "metadata": {
    "execution": {
     "iopub.execute_input": "2025-08-26T07:15:54.428233Z",
     "iopub.status.busy": "2025-08-26T07:15:54.427966Z",
     "iopub.status.idle": "2025-08-26T07:16:38.049667Z",
     "shell.execute_reply": "2025-08-26T07:16:38.048907Z"
    },
    "papermill": {
     "duration": 43.629001,
     "end_time": "2025-08-26T07:16:38.053387",
     "exception": false,
     "start_time": "2025-08-26T07:15:54.424386",
     "status": "completed"
    },
    "tags": []
   },
   "outputs": [
    {
     "name": "stdout",
     "output_type": "stream",
     "text": [
      "[2025-08-26 07:16:04.741] [CUML] [info] cuML: Installed accelerator for sklearn.\n"
     ]
    },
    {
     "name": "stderr",
     "output_type": "stream",
     "text": [
      "2025-08-26 07:16:19.177699: E external/local_xla/xla/stream_executor/cuda/cuda_fft.cc:477] Unable to register cuFFT factory: Attempting to register factory for plugin cuFFT when one has already been registered\n",
      "WARNING: All log messages before absl::InitializeLog() is called are written to STDERR\n",
      "E0000 00:00:1756192579.379767      19 cuda_dnn.cc:8310] Unable to register cuDNN factory: Attempting to register factory for plugin cuDNN when one has already been registered\n",
      "E0000 00:00:1756192579.443614      19 cuda_blas.cc:1418] Unable to register cuBLAS factory: Attempting to register factory for plugin cuBLAS when one has already been registered\n"
     ]
    },
    {
     "name": "stdout",
     "output_type": "stream",
     "text": [
      "[2025-08-26 07:16:37.945] [CUML] [info] cuML: Installed accelerator for umap.\n",
      "[2025-08-26 07:16:38.019] [CUML] [info] cuML: Installed accelerator for hdbscan.\n",
      "[2025-08-26 07:16:38.019] [CUML] [info] cuML: Successfully initialized accelerator.\n"
     ]
    }
   ],
   "source": [
    "%load_ext cuml.accel\n",
    "from sklearn.feature_extraction.text import TfidfVectorizer\n",
    "from sklearn.preprocessing import FunctionTransformer\n",
    "from sklearn.compose import ColumnTransformer\n",
    "from sklearn.pipeline import Pipeline\n",
    "from sklearn.linear_model import LogisticRegression\n",
    "from sklearn.model_selection import train_test_split\n",
    "from sklearn.metrics import classification_report, accuracy_score\n",
    "from sklearn.naive_bayes import MultinomialNB\n",
    "from sklearn.feature_extraction.text import HashingVectorizer\n",
    "from sklearn.model_selection import cross_val_score\n",
    "\n",
    "import joblib"
   ]
  },
  {
   "cell_type": "code",
   "execution_count": 4,
   "id": "b07e4156",
   "metadata": {
    "execution": {
     "iopub.execute_input": "2025-08-26T07:16:38.060790Z",
     "iopub.status.busy": "2025-08-26T07:16:38.059841Z",
     "iopub.status.idle": "2025-08-26T07:16:39.474007Z",
     "shell.execute_reply": "2025-08-26T07:16:39.473266Z"
    },
    "papermill": {
     "duration": 1.418842,
     "end_time": "2025-08-26T07:16:39.475223",
     "exception": false,
     "start_time": "2025-08-26T07:16:38.056381",
     "status": "completed"
    },
    "tags": []
   },
   "outputs": [
    {
     "data": {
      "text/html": [
       "<div>\n",
       "<style scoped>\n",
       "    .dataframe tbody tr th:only-of-type {\n",
       "        vertical-align: middle;\n",
       "    }\n",
       "\n",
       "    .dataframe tbody tr th {\n",
       "        vertical-align: top;\n",
       "    }\n",
       "\n",
       "    .dataframe thead th {\n",
       "        text-align: right;\n",
       "    }\n",
       "</style>\n",
       "<table border=\"1\" class=\"dataframe\">\n",
       "  <thead>\n",
       "    <tr style=\"text-align: right;\">\n",
       "      <th></th>\n",
       "      <th>url</th>\n",
       "      <th>label</th>\n",
       "      <th>result</th>\n",
       "    </tr>\n",
       "  </thead>\n",
       "  <tbody>\n",
       "    <tr>\n",
       "      <th>0</th>\n",
       "      <td>https://www.google.com</td>\n",
       "      <td>benign</td>\n",
       "      <td>0</td>\n",
       "    </tr>\n",
       "    <tr>\n",
       "      <th>1</th>\n",
       "      <td>https://www.youtube.com</td>\n",
       "      <td>benign</td>\n",
       "      <td>0</td>\n",
       "    </tr>\n",
       "    <tr>\n",
       "      <th>2</th>\n",
       "      <td>https://www.facebook.com</td>\n",
       "      <td>benign</td>\n",
       "      <td>0</td>\n",
       "    </tr>\n",
       "    <tr>\n",
       "      <th>3</th>\n",
       "      <td>https://www.baidu.com</td>\n",
       "      <td>benign</td>\n",
       "      <td>0</td>\n",
       "    </tr>\n",
       "    <tr>\n",
       "      <th>4</th>\n",
       "      <td>https://www.wikipedia.org</td>\n",
       "      <td>benign</td>\n",
       "      <td>0</td>\n",
       "    </tr>\n",
       "  </tbody>\n",
       "</table>\n",
       "</div>"
      ],
      "text/plain": [
       "                         url   label  result\n",
       "0     https://www.google.com  benign       0\n",
       "1    https://www.youtube.com  benign       0\n",
       "2   https://www.facebook.com  benign       0\n",
       "3      https://www.baidu.com  benign       0\n",
       "4  https://www.wikipedia.org  benign       0"
      ]
     },
     "execution_count": 4,
     "metadata": {},
     "output_type": "execute_result"
    }
   ],
   "source": [
    "df=pd.read_csv(\"/kaggle/input/benign-and-malicious-urls/balanced_urls.csv\")\n",
    "df.head()"
   ]
  },
  {
   "cell_type": "code",
   "execution_count": 5,
   "id": "8952806a",
   "metadata": {
    "execution": {
     "iopub.execute_input": "2025-08-26T07:16:39.483095Z",
     "iopub.status.busy": "2025-08-26T07:16:39.482887Z",
     "iopub.status.idle": "2025-08-26T07:16:39.501114Z",
     "shell.execute_reply": "2025-08-26T07:16:39.500412Z"
    },
    "papermill": {
     "duration": 0.023586,
     "end_time": "2025-08-26T07:16:39.502388",
     "exception": false,
     "start_time": "2025-08-26T07:16:39.478802",
     "status": "completed"
    },
    "tags": []
   },
   "outputs": [],
   "source": [
    "X=df[[\"url\"]]\n",
    "y=df[\"result\"]"
   ]
  },
  {
   "cell_type": "code",
   "execution_count": 6,
   "id": "44b6cad0",
   "metadata": {
    "execution": {
     "iopub.execute_input": "2025-08-26T07:16:39.509116Z",
     "iopub.status.busy": "2025-08-26T07:16:39.508905Z",
     "iopub.status.idle": "2025-08-26T07:16:39.515680Z",
     "shell.execute_reply": "2025-08-26T07:16:39.515192Z"
    },
    "papermill": {
     "duration": 0.011257,
     "end_time": "2025-08-26T07:16:39.516723",
     "exception": false,
     "start_time": "2025-08-26T07:16:39.505466",
     "status": "completed"
    },
    "tags": []
   },
   "outputs": [],
   "source": [
    "# Simplified IPv4: numbers separated by dots\n",
    "ipv4_simple = r\"\\b\\d{1,3}(?:\\.\\d{1,3}){3}\\b\"\n",
    "\n",
    "# Simplified IPv6: hex digits + colons (not full validation)\n",
    "ipv6_simple = r\"\\b[0-9A-Fa-f:]{2,}\\b\"\n",
    "\n",
    "ip_pattern_simple = f\"(?:{ipv4_simple}|{ipv6_simple})\"\n",
    "\n",
    "def add_url_features(X):\n",
    "    df_temp = pd.DataFrame({\"url\": X})\n",
    "\n",
    "    # Basic features\n",
    "    df_temp[\"https\"] = df_temp[\"url\"].str.contains(\"https\").astype(int)\n",
    "    df_temp[\"length\"] = df_temp[\"url\"].str.len()\n",
    "    df_temp[\"num_digits\"] = df_temp[\"url\"].str.count(r\"\\d\")\n",
    "    df_temp[\"subdomain_count\"] = df_temp[\"url\"].str.count(r\"\\.\") - 1\n",
    "    df_temp[\"path_length\"] = df_temp[\"url\"].str.split(\"/\", n=3).str[-1].str.len()\n",
    "    df_temp[\"ip_in_url\"] = df_temp[\"url\"].str.contains(ip_pattern_simple, regex=True).astype(int)\n",
    "\n",
    "    # Special characters\n",
    "    df_temp[\"dots\"] = df_temp[\"url\"].str.count(r\"\\.\")\n",
    "    df_temp[\"at_count\"] = df_temp[\"url\"].str.count(\"@\")\n",
    "    df_temp[\"question_count\"] = df_temp[\"url\"].str.count(r\"\\?\")\n",
    "    df_temp[\"hyphen_count\"] = df_temp[\"url\"].str.count(\"-\")\n",
    "    df_temp[\"equal_count\"] = df_temp[\"url\"].str.count(\"=\")\n",
    "    df_temp[\"hash_count\"] = df_temp[\"url\"].str.count(\"#\")\n",
    "    df_temp[\"percent_count\"] = df_temp[\"url\"].str.count(\"%\")\n",
    "    df_temp[\"plus_count\"] = df_temp[\"url\"].str.count(r\"\\+\")\n",
    "    df_temp[\"dollar_count\"] = df_temp[\"url\"].str.count(r\"\\$\")\n",
    "    df_temp[\"exclaim_count\"] = df_temp[\"url\"].str.count(\"!\")\n",
    "    df_temp[\"star_count\"] = df_temp[\"url\"].str.count(r\"\\*\")\n",
    "    df_temp[\"comma_count\"] = df_temp[\"url\"].str.count(\",\")\n",
    "    df_temp[\"param_count\"] = df_temp[\"url\"].str.count(\"&\")\n",
    "\n",
    "    return df_temp.drop(columns=[\"url\"])"
   ]
  },
  {
   "cell_type": "code",
   "execution_count": 7,
   "id": "aa9fc652",
   "metadata": {
    "execution": {
     "iopub.execute_input": "2025-08-26T07:16:39.523468Z",
     "iopub.status.busy": "2025-08-26T07:16:39.523275Z",
     "iopub.status.idle": "2025-08-26T07:16:39.526221Z",
     "shell.execute_reply": "2025-08-26T07:16:39.525691Z"
    },
    "papermill": {
     "duration": 0.007522,
     "end_time": "2025-08-26T07:16:39.527258",
     "exception": false,
     "start_time": "2025-08-26T07:16:39.519736",
     "status": "completed"
    },
    "tags": []
   },
   "outputs": [],
   "source": [
    "feature_transformer = FunctionTransformer(add_url_features, validate=False)"
   ]
  },
  {
   "cell_type": "code",
   "execution_count": 8,
   "id": "4bc3a3f8",
   "metadata": {
    "execution": {
     "iopub.execute_input": "2025-08-26T07:16:39.534265Z",
     "iopub.status.busy": "2025-08-26T07:16:39.533561Z",
     "iopub.status.idle": "2025-08-26T07:16:39.537527Z",
     "shell.execute_reply": "2025-08-26T07:16:39.537012Z"
    },
    "papermill": {
     "duration": 0.008297,
     "end_time": "2025-08-26T07:16:39.538495",
     "exception": false,
     "start_time": "2025-08-26T07:16:39.530198",
     "status": "completed"
    },
    "tags": []
   },
   "outputs": [],
   "source": [
    "preprocessor = ColumnTransformer(\n",
    "    transformers=[\n",
    "        (\"tfidf\", HashingVectorizer(analyzer=\"char\",ngram_range=(3,3),n_features=400,alternate_sign=False,binary=True,dtype=np.float32), \"url\"),\n",
    "        (\"custom\", feature_transformer, \"url\")\n",
    "    ]\n",
    ")"
   ]
  },
  {
   "cell_type": "code",
   "execution_count": 9,
   "id": "27bf44ed",
   "metadata": {
    "execution": {
     "iopub.execute_input": "2025-08-26T07:16:39.546216Z",
     "iopub.status.busy": "2025-08-26T07:16:39.545991Z",
     "iopub.status.idle": "2025-08-26T07:16:39.549965Z",
     "shell.execute_reply": "2025-08-26T07:16:39.549311Z"
    },
    "papermill": {
     "duration": 0.009394,
     "end_time": "2025-08-26T07:16:39.551070",
     "exception": false,
     "start_time": "2025-08-26T07:16:39.541676",
     "status": "completed"
    },
    "tags": []
   },
   "outputs": [],
   "source": [
    "pipeline = Pipeline([\n",
    "    (\"features\", preprocessor),\n",
    "    (\"clf\", LogisticRegression(max_iter=2000))\n",
    "])"
   ]
  },
  {
   "cell_type": "code",
   "execution_count": 10,
   "id": "4e539f45",
   "metadata": {
    "execution": {
     "iopub.execute_input": "2025-08-26T07:16:39.557724Z",
     "iopub.status.busy": "2025-08-26T07:16:39.557529Z",
     "iopub.status.idle": "2025-08-26T07:16:39.814766Z",
     "shell.execute_reply": "2025-08-26T07:16:39.813869Z"
    },
    "papermill": {
     "duration": 0.262163,
     "end_time": "2025-08-26T07:16:39.816249",
     "exception": false,
     "start_time": "2025-08-26T07:16:39.554086",
     "status": "completed"
    },
    "tags": []
   },
   "outputs": [],
   "source": [
    "X_train, X_test, y_train, y_test = train_test_split(X, y, test_size=0.2, random_state=42, stratify=y)"
   ]
  },
  {
   "cell_type": "code",
   "execution_count": 11,
   "id": "218b690e",
   "metadata": {
    "execution": {
     "iopub.execute_input": "2025-08-26T07:16:39.823878Z",
     "iopub.status.busy": "2025-08-26T07:16:39.823485Z",
     "iopub.status.idle": "2025-08-26T07:16:39.826541Z",
     "shell.execute_reply": "2025-08-26T07:16:39.825926Z"
    },
    "papermill": {
     "duration": 0.008246,
     "end_time": "2025-08-26T07:16:39.827832",
     "exception": false,
     "start_time": "2025-08-26T07:16:39.819586",
     "status": "completed"
    },
    "tags": []
   },
   "outputs": [],
   "source": [
    "# scores = cross_val_score(pipeline, X, y, cv=5)\n",
    "# print(\"CV accuracy:\", scores.mean(), scores.std())"
   ]
  },
  {
   "cell_type": "markdown",
   "id": "32f63ef3",
   "metadata": {
    "papermill": {
     "duration": 0.002775,
     "end_time": "2025-08-26T07:16:39.833623",
     "exception": false,
     "start_time": "2025-08-26T07:16:39.830848",
     "status": "completed"
    },
    "tags": []
   },
   "source": [
    "WITH HashingVectorizer : 99.XX ||| WITHOUT HashingVectorizer : 97.XX"
   ]
  },
  {
   "cell_type": "code",
   "execution_count": 12,
   "id": "7f0f7aa8",
   "metadata": {
    "execution": {
     "iopub.execute_input": "2025-08-26T07:16:39.840321Z",
     "iopub.status.busy": "2025-08-26T07:16:39.839899Z",
     "iopub.status.idle": "2025-08-26T07:17:24.615888Z",
     "shell.execute_reply": "2025-08-26T07:17:24.615171Z"
    },
    "papermill": {
     "duration": 44.783137,
     "end_time": "2025-08-26T07:17:24.619667",
     "exception": false,
     "start_time": "2025-08-26T07:16:39.836530",
     "status": "completed"
    },
    "tags": []
   },
   "outputs": [
    {
     "name": "stdout",
     "output_type": "stream",
     "text": [
      "[2025-08-26 07:17:24.575] [CUML] [warning] L-BFGS: max iterations reached\n",
      "[2025-08-26 07:17:24.575] [CUML] [warning] Maximum iterations reached before solver is converged. To increase model accuracy you can increase the number of iterations (max_iter) or improve the scaling of the input data.\n"
     ]
    },
    {
     "data": {
      "text/html": [
       "<style>#sk-container-id-1 {color: black;background-color: white;}#sk-container-id-1 pre{padding: 0;}#sk-container-id-1 div.sk-toggleable {background-color: white;}#sk-container-id-1 label.sk-toggleable__label {cursor: pointer;display: block;width: 100%;margin-bottom: 0;padding: 0.3em;box-sizing: border-box;text-align: center;}#sk-container-id-1 label.sk-toggleable__label-arrow:before {content: \"▸\";float: left;margin-right: 0.25em;color: #696969;}#sk-container-id-1 label.sk-toggleable__label-arrow:hover:before {color: black;}#sk-container-id-1 div.sk-estimator:hover label.sk-toggleable__label-arrow:before {color: black;}#sk-container-id-1 div.sk-toggleable__content {max-height: 0;max-width: 0;overflow: hidden;text-align: left;background-color: #f0f8ff;}#sk-container-id-1 div.sk-toggleable__content pre {margin: 0.2em;color: black;border-radius: 0.25em;background-color: #f0f8ff;}#sk-container-id-1 input.sk-toggleable__control:checked~div.sk-toggleable__content {max-height: 200px;max-width: 100%;overflow: auto;}#sk-container-id-1 input.sk-toggleable__control:checked~label.sk-toggleable__label-arrow:before {content: \"▾\";}#sk-container-id-1 div.sk-estimator input.sk-toggleable__control:checked~label.sk-toggleable__label {background-color: #d4ebff;}#sk-container-id-1 div.sk-label input.sk-toggleable__control:checked~label.sk-toggleable__label {background-color: #d4ebff;}#sk-container-id-1 input.sk-hidden--visually {border: 0;clip: rect(1px 1px 1px 1px);clip: rect(1px, 1px, 1px, 1px);height: 1px;margin: -1px;overflow: hidden;padding: 0;position: absolute;width: 1px;}#sk-container-id-1 div.sk-estimator {font-family: monospace;background-color: #f0f8ff;border: 1px dotted black;border-radius: 0.25em;box-sizing: border-box;margin-bottom: 0.5em;}#sk-container-id-1 div.sk-estimator:hover {background-color: #d4ebff;}#sk-container-id-1 div.sk-parallel-item::after {content: \"\";width: 100%;border-bottom: 1px solid gray;flex-grow: 1;}#sk-container-id-1 div.sk-label:hover label.sk-toggleable__label {background-color: #d4ebff;}#sk-container-id-1 div.sk-serial::before {content: \"\";position: absolute;border-left: 1px solid gray;box-sizing: border-box;top: 0;bottom: 0;left: 50%;z-index: 0;}#sk-container-id-1 div.sk-serial {display: flex;flex-direction: column;align-items: center;background-color: white;padding-right: 0.2em;padding-left: 0.2em;position: relative;}#sk-container-id-1 div.sk-item {position: relative;z-index: 1;}#sk-container-id-1 div.sk-parallel {display: flex;align-items: stretch;justify-content: center;background-color: white;position: relative;}#sk-container-id-1 div.sk-item::before, #sk-container-id-1 div.sk-parallel-item::before {content: \"\";position: absolute;border-left: 1px solid gray;box-sizing: border-box;top: 0;bottom: 0;left: 50%;z-index: -1;}#sk-container-id-1 div.sk-parallel-item {display: flex;flex-direction: column;z-index: 1;position: relative;background-color: white;}#sk-container-id-1 div.sk-parallel-item:first-child::after {align-self: flex-end;width: 50%;}#sk-container-id-1 div.sk-parallel-item:last-child::after {align-self: flex-start;width: 50%;}#sk-container-id-1 div.sk-parallel-item:only-child::after {width: 0;}#sk-container-id-1 div.sk-dashed-wrapped {border: 1px dashed gray;margin: 0 0.4em 0.5em 0.4em;box-sizing: border-box;padding-bottom: 0.4em;background-color: white;}#sk-container-id-1 div.sk-label label {font-family: monospace;font-weight: bold;display: inline-block;line-height: 1.2em;}#sk-container-id-1 div.sk-label-container {text-align: center;}#sk-container-id-1 div.sk-container {/* jupyter's `normalize.less` sets `[hidden] { display: none; }` but bootstrap.min.css set `[hidden] { display: none !important; }` so we also need the `!important` here to be able to override the default hidden behavior on the sphinx rendered scikit-learn.org. See: https://github.com/scikit-learn/scikit-learn/issues/21755 */display: inline-block !important;position: relative;}#sk-container-id-1 div.sk-text-repr-fallback {display: none;}</style><div id=\"sk-container-id-1\" class=\"sk-top-container\"><div class=\"sk-text-repr-fallback\"><pre>Pipeline(steps=[(&#x27;features&#x27;,\n",
       "                 ColumnTransformer(transformers=[(&#x27;tfidf&#x27;,\n",
       "                                                  HashingVectorizer(alternate_sign=False,\n",
       "                                                                    analyzer=&#x27;char&#x27;,\n",
       "                                                                    binary=True,\n",
       "                                                                    dtype=&lt;class &#x27;numpy.float32&#x27;&gt;,\n",
       "                                                                    n_features=400,\n",
       "                                                                    ngram_range=(3,\n",
       "                                                                                 3)),\n",
       "                                                  &#x27;url&#x27;),\n",
       "                                                 (&#x27;custom&#x27;,\n",
       "                                                  FunctionTransformer(func=&lt;function add_url_features at 0x7f93af5f7420&gt;),\n",
       "                                                  &#x27;url&#x27;)])),\n",
       "                (&#x27;clf&#x27;, LogisticRegression(max_iter=2000))])</pre><b>In a Jupyter environment, please rerun this cell to show the HTML representation or trust the notebook. <br />On GitHub, the HTML representation is unable to render, please try loading this page with nbviewer.org.</b></div><div class=\"sk-container\" hidden><div class=\"sk-item sk-dashed-wrapped\"><div class=\"sk-label-container\"><div class=\"sk-label sk-toggleable\"><input class=\"sk-toggleable__control sk-hidden--visually\" id=\"sk-estimator-id-1\" type=\"checkbox\" ><label for=\"sk-estimator-id-1\" class=\"sk-toggleable__label sk-toggleable__label-arrow\">Pipeline</label><div class=\"sk-toggleable__content\"><pre>Pipeline(steps=[(&#x27;features&#x27;,\n",
       "                 ColumnTransformer(transformers=[(&#x27;tfidf&#x27;,\n",
       "                                                  HashingVectorizer(alternate_sign=False,\n",
       "                                                                    analyzer=&#x27;char&#x27;,\n",
       "                                                                    binary=True,\n",
       "                                                                    dtype=&lt;class &#x27;numpy.float32&#x27;&gt;,\n",
       "                                                                    n_features=400,\n",
       "                                                                    ngram_range=(3,\n",
       "                                                                                 3)),\n",
       "                                                  &#x27;url&#x27;),\n",
       "                                                 (&#x27;custom&#x27;,\n",
       "                                                  FunctionTransformer(func=&lt;function add_url_features at 0x7f93af5f7420&gt;),\n",
       "                                                  &#x27;url&#x27;)])),\n",
       "                (&#x27;clf&#x27;, LogisticRegression(max_iter=2000))])</pre></div></div></div><div class=\"sk-serial\"><div class=\"sk-item sk-dashed-wrapped\"><div class=\"sk-label-container\"><div class=\"sk-label sk-toggleable\"><input class=\"sk-toggleable__control sk-hidden--visually\" id=\"sk-estimator-id-2\" type=\"checkbox\" ><label for=\"sk-estimator-id-2\" class=\"sk-toggleable__label sk-toggleable__label-arrow\">features: ColumnTransformer</label><div class=\"sk-toggleable__content\"><pre>ColumnTransformer(transformers=[(&#x27;tfidf&#x27;,\n",
       "                                 HashingVectorizer(alternate_sign=False,\n",
       "                                                   analyzer=&#x27;char&#x27;, binary=True,\n",
       "                                                   dtype=&lt;class &#x27;numpy.float32&#x27;&gt;,\n",
       "                                                   n_features=400,\n",
       "                                                   ngram_range=(3, 3)),\n",
       "                                 &#x27;url&#x27;),\n",
       "                                (&#x27;custom&#x27;,\n",
       "                                 FunctionTransformer(func=&lt;function add_url_features at 0x7f93af5f7420&gt;),\n",
       "                                 &#x27;url&#x27;)])</pre></div></div></div><div class=\"sk-parallel\"><div class=\"sk-parallel-item\"><div class=\"sk-item\"><div class=\"sk-label-container\"><div class=\"sk-label sk-toggleable\"><input class=\"sk-toggleable__control sk-hidden--visually\" id=\"sk-estimator-id-3\" type=\"checkbox\" ><label for=\"sk-estimator-id-3\" class=\"sk-toggleable__label sk-toggleable__label-arrow\">tfidf</label><div class=\"sk-toggleable__content\"><pre>url</pre></div></div></div><div class=\"sk-serial\"><div class=\"sk-item\"><div class=\"sk-estimator sk-toggleable\"><input class=\"sk-toggleable__control sk-hidden--visually\" id=\"sk-estimator-id-4\" type=\"checkbox\" ><label for=\"sk-estimator-id-4\" class=\"sk-toggleable__label sk-toggleable__label-arrow\">HashingVectorizer</label><div class=\"sk-toggleable__content\"><pre>HashingVectorizer(alternate_sign=False, analyzer=&#x27;char&#x27;, binary=True,\n",
       "                  dtype=&lt;class &#x27;numpy.float32&#x27;&gt;, n_features=400,\n",
       "                  ngram_range=(3, 3))</pre></div></div></div></div></div></div><div class=\"sk-parallel-item\"><div class=\"sk-item\"><div class=\"sk-label-container\"><div class=\"sk-label sk-toggleable\"><input class=\"sk-toggleable__control sk-hidden--visually\" id=\"sk-estimator-id-5\" type=\"checkbox\" ><label for=\"sk-estimator-id-5\" class=\"sk-toggleable__label sk-toggleable__label-arrow\">custom</label><div class=\"sk-toggleable__content\"><pre>url</pre></div></div></div><div class=\"sk-serial\"><div class=\"sk-item\"><div class=\"sk-estimator sk-toggleable\"><input class=\"sk-toggleable__control sk-hidden--visually\" id=\"sk-estimator-id-6\" type=\"checkbox\" ><label for=\"sk-estimator-id-6\" class=\"sk-toggleable__label sk-toggleable__label-arrow\">FunctionTransformer</label><div class=\"sk-toggleable__content\"><pre>FunctionTransformer(func=&lt;function add_url_features at 0x7f93af5f7420&gt;)</pre></div></div></div></div></div></div></div></div><div class=\"sk-item\"><div class=\"sk-estimator sk-toggleable\"><input class=\"sk-toggleable__control sk-hidden--visually\" id=\"sk-estimator-id-7\" type=\"checkbox\" ><label for=\"sk-estimator-id-7\" class=\"sk-toggleable__label sk-toggleable__label-arrow\">LogisticRegression</label><div class=\"sk-toggleable__content\"><pre>LogisticRegression(max_iter=2000)</pre></div></div></div></div></div></div></div>"
      ],
      "text/plain": [
       "Pipeline(steps=[('features',\n",
       "                 ColumnTransformer(transformers=[('tfidf',\n",
       "                                                  HashingVectorizer(alternate_sign=False,\n",
       "                                                                    analyzer='char',\n",
       "                                                                    binary=True,\n",
       "                                                                    dtype=<class 'numpy.float32'>,\n",
       "                                                                    n_features=400,\n",
       "                                                                    ngram_range=(3,\n",
       "                                                                                 3)),\n",
       "                                                  'url'),\n",
       "                                                 ('custom',\n",
       "                                                  FunctionTransformer(func=<function add_url_features at 0x7f93af5f7420>),\n",
       "                                                  'url')])),\n",
       "                ('clf', LogisticRegression(max_iter=2000))])"
      ]
     },
     "execution_count": 12,
     "metadata": {},
     "output_type": "execute_result"
    }
   ],
   "source": [
    "pipeline.fit(X_train, y_train)"
   ]
  },
  {
   "cell_type": "code",
   "execution_count": 13,
   "id": "2bdab4c2",
   "metadata": {
    "execution": {
     "iopub.execute_input": "2025-08-26T07:17:24.627115Z",
     "iopub.status.busy": "2025-08-26T07:17:24.626894Z",
     "iopub.status.idle": "2025-08-26T07:17:29.483777Z",
     "shell.execute_reply": "2025-08-26T07:17:29.483174Z"
    },
    "papermill": {
     "duration": 4.862151,
     "end_time": "2025-08-26T07:17:29.485246",
     "exception": false,
     "start_time": "2025-08-26T07:17:24.623095",
     "status": "completed"
    },
    "tags": []
   },
   "outputs": [],
   "source": [
    "# --- Predict ---\n",
    "y_pred = pipeline.predict(X_test)"
   ]
  },
  {
   "cell_type": "code",
   "execution_count": 14,
   "id": "b6ded3df",
   "metadata": {
    "execution": {
     "iopub.execute_input": "2025-08-26T07:17:29.493658Z",
     "iopub.status.busy": "2025-08-26T07:17:29.493026Z",
     "iopub.status.idle": "2025-08-26T07:17:29.543395Z",
     "shell.execute_reply": "2025-08-26T07:17:29.542458Z"
    },
    "papermill": {
     "duration": 0.05543,
     "end_time": "2025-08-26T07:17:29.544508",
     "exception": false,
     "start_time": "2025-08-26T07:17:29.489078",
     "status": "completed"
    },
    "tags": []
   },
   "outputs": [
    {
     "name": "stdout",
     "output_type": "stream",
     "text": [
      "Accuracy: 0.9960474933202638\n",
      "\n",
      "Classification Report:\n",
      "               precision    recall  f1-score   support\n",
      "\n",
      "           0       0.99      1.00      1.00     63251\n",
      "           1       1.00      0.99      1.00     63251\n",
      "\n",
      "    accuracy                           1.00    126502\n",
      "   macro avg       1.00      1.00      1.00    126502\n",
      "weighted avg       1.00      1.00      1.00    126502\n",
      "\n"
     ]
    }
   ],
   "source": [
    "# --- Evaluate ---\n",
    "print(\"Accuracy:\", accuracy_score(y_test, y_pred))\n",
    "print(\"\\nClassification Report:\\n\", classification_report(y_test, y_pred))"
   ]
  },
  {
   "cell_type": "code",
   "execution_count": 15,
   "id": "d3ac7492",
   "metadata": {
    "execution": {
     "iopub.execute_input": "2025-08-26T07:17:29.552290Z",
     "iopub.status.busy": "2025-08-26T07:17:29.551912Z",
     "iopub.status.idle": "2025-08-26T07:17:29.573635Z",
     "shell.execute_reply": "2025-08-26T07:17:29.573035Z"
    },
    "papermill": {
     "duration": 0.026602,
     "end_time": "2025-08-26T07:17:29.574646",
     "exception": false,
     "start_time": "2025-08-26T07:17:29.548044",
     "status": "completed"
    },
    "tags": []
   },
   "outputs": [
    {
     "name": "stdout",
     "output_type": "stream",
     "text": [
      "Got Model\n"
     ]
    }
   ],
   "source": [
    "joblib.dump(pipeline, \"url_model.pkl\")\n",
    "print(\"Got Model\")"
   ]
  },
  {
   "cell_type": "code",
   "execution_count": 16,
   "id": "0158046d",
   "metadata": {
    "execution": {
     "iopub.execute_input": "2025-08-26T07:17:29.582094Z",
     "iopub.status.busy": "2025-08-26T07:17:29.581854Z",
     "iopub.status.idle": "2025-08-26T07:17:29.602832Z",
     "shell.execute_reply": "2025-08-26T07:17:29.602053Z"
    },
    "papermill": {
     "duration": 0.02599,
     "end_time": "2025-08-26T07:17:29.603950",
     "exception": false,
     "start_time": "2025-08-26T07:17:29.577960",
     "status": "completed"
    },
    "tags": []
   },
   "outputs": [
    {
     "name": "stdout",
     "output_type": "stream",
     "text": [
      "[1]\n"
     ]
    }
   ],
   "source": [
    "pipeline = joblib.load(\"url_model.pkl\")\n",
    "\n",
    "df = pd.DataFrame({\"url\": [\"http://badwebsite.com/login\"]})\n",
    "print(pipeline.predict(df))"
   ]
  },
  {
   "cell_type": "code",
   "execution_count": 17,
   "id": "da4d1002",
   "metadata": {
    "execution": {
     "iopub.execute_input": "2025-08-26T07:17:29.611678Z",
     "iopub.status.busy": "2025-08-26T07:17:29.611200Z",
     "iopub.status.idle": "2025-08-26T07:17:29.615348Z",
     "shell.execute_reply": "2025-08-26T07:17:29.614661Z"
    },
    "papermill": {
     "duration": 0.009039,
     "end_time": "2025-08-26T07:17:29.616396",
     "exception": false,
     "start_time": "2025-08-26T07:17:29.607357",
     "status": "completed"
    },
    "tags": []
   },
   "outputs": [
    {
     "name": "stdout",
     "output_type": "stream",
     "text": [
      "Model size (MB): 0.0070972442626953125\n",
      "Object size (bytes): 56\n"
     ]
    }
   ],
   "source": [
    "import sys\n",
    "\n",
    "# Check size on disk\n",
    "import os\n",
    "print(\"Model size (MB):\", os.path.getsize(\"url_model.pkl\") / (1024*1024))\n",
    "\n",
    "# Check object size in memory\n",
    "print(\"Object size (bytes):\", sys.getsizeof(pipeline))\n"
   ]
  }
 ],
 "metadata": {
  "kaggle": {
   "accelerator": "nvidiaTeslaT4",
   "dataSources": [
    {
     "datasetId": 2378722,
     "sourceId": 4012851,
     "sourceType": "datasetVersion"
    }
   ],
   "dockerImageVersionId": 31090,
   "isGpuEnabled": true,
   "isInternetEnabled": true,
   "language": "python",
   "sourceType": "notebook"
  },
  "kernelspec": {
   "display_name": "Python 3",
   "language": "python",
   "name": "python3"
  },
  "language_info": {
   "codemirror_mode": {
    "name": "ipython",
    "version": 3
   },
   "file_extension": ".py",
   "mimetype": "text/x-python",
   "name": "python",
   "nbconvert_exporter": "python",
   "pygments_lexer": "ipython3",
   "version": "3.11.13"
  },
  "papermill": {
   "default_parameters": {},
   "duration": 104.17581,
   "end_time": "2025-08-26T07:17:33.130972",
   "environment_variables": {},
   "exception": null,
   "input_path": "__notebook__.ipynb",
   "output_path": "__notebook__.ipynb",
   "parameters": {},
   "start_time": "2025-08-26T07:15:48.955162",
   "version": "2.6.0"
  }
 },
 "nbformat": 4,
 "nbformat_minor": 5
}
