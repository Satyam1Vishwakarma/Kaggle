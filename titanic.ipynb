{
 "cells": [
  {
   "cell_type": "code",
   "execution_count": 1,
   "id": "8d7eaba9",
   "metadata": {
    "_cell_guid": "b1076dfc-b9ad-4769-8c92-a6c4dae69d19",
    "_uuid": "8f2839f25d086af736a60e9eeb907d3b93b6e0e5",
    "execution": {
     "iopub.execute_input": "2025-07-31T11:12:15.394703Z",
     "iopub.status.busy": "2025-07-31T11:12:15.394366Z",
     "iopub.status.idle": "2025-07-31T11:12:17.339511Z",
     "shell.execute_reply": "2025-07-31T11:12:17.338542Z"
    },
    "papermill": {
     "duration": 1.952258,
     "end_time": "2025-07-31T11:12:17.341159",
     "exception": false,
     "start_time": "2025-07-31T11:12:15.388901",
     "status": "completed"
    },
    "tags": []
   },
   "outputs": [
    {
     "name": "stdout",
     "output_type": "stream",
     "text": [
      "/kaggle/input/titanic/train.csv\n",
      "/kaggle/input/titanic/test.csv\n",
      "/kaggle/input/titanic/gender_submission.csv\n"
     ]
    }
   ],
   "source": [
    "# This Python 3 environment comes with many helpful analytics libraries installed\n",
    "# It is defined by the kaggle/python Docker image: https://github.com/kaggle/docker-python\n",
    "# For example, here's several helpful packages to load\n",
    "\n",
    "import numpy as np # linear algebra\n",
    "import pandas as pd # data processing, CSV file I/O (e.g. pd.read_csv)\n",
    "\n",
    "# Input data files are available in the read-only \"../input/\" directory\n",
    "# For example, running this (by clicking run or pressing Shift+Enter) will list all files under the input directory\n",
    "\n",
    "import os\n",
    "for dirname, _, filenames in os.walk('/kaggle/input'):\n",
    "    for filename in filenames:\n",
    "        print(os.path.join(dirname, filename))\n",
    "\n",
    "# You can write up to 20GB to the current directory (/kaggle/working/) that gets preserved as output when you create a version using \"Save & Run All\" \n",
    "# You can also write temporary files to /kaggle/temp/, but they won't be saved outside of the current session"
   ]
  },
  {
   "cell_type": "code",
   "execution_count": 2,
   "id": "3787fcd8",
   "metadata": {
    "execution": {
     "iopub.execute_input": "2025-07-31T11:12:17.350035Z",
     "iopub.status.busy": "2025-07-31T11:12:17.349602Z",
     "iopub.status.idle": "2025-07-31T11:12:17.405517Z",
     "shell.execute_reply": "2025-07-31T11:12:17.404587Z"
    },
    "papermill": {
     "duration": 0.062137,
     "end_time": "2025-07-31T11:12:17.407204",
     "exception": false,
     "start_time": "2025-07-31T11:12:17.345067",
     "status": "completed"
    },
    "tags": []
   },
   "outputs": [
    {
     "data": {
      "text/html": [
       "<div>\n",
       "<style scoped>\n",
       "    .dataframe tbody tr th:only-of-type {\n",
       "        vertical-align: middle;\n",
       "    }\n",
       "\n",
       "    .dataframe tbody tr th {\n",
       "        vertical-align: top;\n",
       "    }\n",
       "\n",
       "    .dataframe thead th {\n",
       "        text-align: right;\n",
       "    }\n",
       "</style>\n",
       "<table border=\"1\" class=\"dataframe\">\n",
       "  <thead>\n",
       "    <tr style=\"text-align: right;\">\n",
       "      <th></th>\n",
       "      <th>PassengerId</th>\n",
       "      <th>Survived</th>\n",
       "      <th>Pclass</th>\n",
       "      <th>Name</th>\n",
       "      <th>Sex</th>\n",
       "      <th>Age</th>\n",
       "      <th>SibSp</th>\n",
       "      <th>Parch</th>\n",
       "      <th>Ticket</th>\n",
       "      <th>Fare</th>\n",
       "      <th>Cabin</th>\n",
       "      <th>Embarked</th>\n",
       "    </tr>\n",
       "  </thead>\n",
       "  <tbody>\n",
       "    <tr>\n",
       "      <th>0</th>\n",
       "      <td>1</td>\n",
       "      <td>0</td>\n",
       "      <td>3</td>\n",
       "      <td>Braund, Mr. Owen Harris</td>\n",
       "      <td>male</td>\n",
       "      <td>22.0</td>\n",
       "      <td>1</td>\n",
       "      <td>0</td>\n",
       "      <td>A/5 21171</td>\n",
       "      <td>7.2500</td>\n",
       "      <td>NaN</td>\n",
       "      <td>S</td>\n",
       "    </tr>\n",
       "    <tr>\n",
       "      <th>1</th>\n",
       "      <td>2</td>\n",
       "      <td>1</td>\n",
       "      <td>1</td>\n",
       "      <td>Cumings, Mrs. John Bradley (Florence Briggs Th...</td>\n",
       "      <td>female</td>\n",
       "      <td>38.0</td>\n",
       "      <td>1</td>\n",
       "      <td>0</td>\n",
       "      <td>PC 17599</td>\n",
       "      <td>71.2833</td>\n",
       "      <td>C85</td>\n",
       "      <td>C</td>\n",
       "    </tr>\n",
       "    <tr>\n",
       "      <th>2</th>\n",
       "      <td>3</td>\n",
       "      <td>1</td>\n",
       "      <td>3</td>\n",
       "      <td>Heikkinen, Miss. Laina</td>\n",
       "      <td>female</td>\n",
       "      <td>26.0</td>\n",
       "      <td>0</td>\n",
       "      <td>0</td>\n",
       "      <td>STON/O2. 3101282</td>\n",
       "      <td>7.9250</td>\n",
       "      <td>NaN</td>\n",
       "      <td>S</td>\n",
       "    </tr>\n",
       "    <tr>\n",
       "      <th>3</th>\n",
       "      <td>4</td>\n",
       "      <td>1</td>\n",
       "      <td>1</td>\n",
       "      <td>Futrelle, Mrs. Jacques Heath (Lily May Peel)</td>\n",
       "      <td>female</td>\n",
       "      <td>35.0</td>\n",
       "      <td>1</td>\n",
       "      <td>0</td>\n",
       "      <td>113803</td>\n",
       "      <td>53.1000</td>\n",
       "      <td>C123</td>\n",
       "      <td>S</td>\n",
       "    </tr>\n",
       "    <tr>\n",
       "      <th>4</th>\n",
       "      <td>5</td>\n",
       "      <td>0</td>\n",
       "      <td>3</td>\n",
       "      <td>Allen, Mr. William Henry</td>\n",
       "      <td>male</td>\n",
       "      <td>35.0</td>\n",
       "      <td>0</td>\n",
       "      <td>0</td>\n",
       "      <td>373450</td>\n",
       "      <td>8.0500</td>\n",
       "      <td>NaN</td>\n",
       "      <td>S</td>\n",
       "    </tr>\n",
       "  </tbody>\n",
       "</table>\n",
       "</div>"
      ],
      "text/plain": [
       "   PassengerId  Survived  Pclass  \\\n",
       "0            1         0       3   \n",
       "1            2         1       1   \n",
       "2            3         1       3   \n",
       "3            4         1       1   \n",
       "4            5         0       3   \n",
       "\n",
       "                                                Name     Sex   Age  SibSp  \\\n",
       "0                            Braund, Mr. Owen Harris    male  22.0      1   \n",
       "1  Cumings, Mrs. John Bradley (Florence Briggs Th...  female  38.0      1   \n",
       "2                             Heikkinen, Miss. Laina  female  26.0      0   \n",
       "3       Futrelle, Mrs. Jacques Heath (Lily May Peel)  female  35.0      1   \n",
       "4                           Allen, Mr. William Henry    male  35.0      0   \n",
       "\n",
       "   Parch            Ticket     Fare Cabin Embarked  \n",
       "0      0         A/5 21171   7.2500   NaN        S  \n",
       "1      0          PC 17599  71.2833   C85        C  \n",
       "2      0  STON/O2. 3101282   7.9250   NaN        S  \n",
       "3      0            113803  53.1000  C123        S  \n",
       "4      0            373450   8.0500   NaN        S  "
      ]
     },
     "execution_count": 2,
     "metadata": {},
     "output_type": "execute_result"
    }
   ],
   "source": [
    "df=pd.read_csv(\"/kaggle/input/titanic/train.csv\")\n",
    "df.head()"
   ]
  },
  {
   "cell_type": "code",
   "execution_count": 3,
   "id": "3b72bfff",
   "metadata": {
    "execution": {
     "iopub.execute_input": "2025-07-31T11:12:17.416539Z",
     "iopub.status.busy": "2025-07-31T11:12:17.416194Z",
     "iopub.status.idle": "2025-07-31T11:12:19.825735Z",
     "shell.execute_reply": "2025-07-31T11:12:19.824739Z"
    },
    "papermill": {
     "duration": 2.416404,
     "end_time": "2025-07-31T11:12:19.827634",
     "exception": false,
     "start_time": "2025-07-31T11:12:17.411230",
     "status": "completed"
    },
    "tags": []
   },
   "outputs": [],
   "source": [
    "from sklearn.preprocessing import LabelEncoder\n",
    "import seaborn as sns\n",
    "import matplotlib.pyplot as plt\n",
    "from sklearn.linear_model import LogisticRegression\n",
    "from sklearn.model_selection import train_test_split"
   ]
  },
  {
   "cell_type": "code",
   "execution_count": 4,
   "id": "b47a5e5b",
   "metadata": {
    "execution": {
     "iopub.execute_input": "2025-07-31T11:12:19.837703Z",
     "iopub.status.busy": "2025-07-31T11:12:19.837177Z",
     "iopub.status.idle": "2025-07-31T11:12:19.843221Z",
     "shell.execute_reply": "2025-07-31T11:12:19.842372Z"
    },
    "papermill": {
     "duration": 0.012672,
     "end_time": "2025-07-31T11:12:19.844814",
     "exception": false,
     "start_time": "2025-07-31T11:12:19.832142",
     "status": "completed"
    },
    "tags": []
   },
   "outputs": [],
   "source": [
    "def Preprocessing(df):\n",
    "    df=df.drop(\"PassengerId\",axis=1)\n",
    "    df=df.drop(\"Name\",axis=1)\n",
    "    df=df.drop(\"Ticket\",axis=1)\n",
    "    df=df.drop(\"Cabin\",axis=1)\n",
    "\n",
    "    encoder=LabelEncoder()\n",
    "    encoded = encoder.fit_transform(df[\"Sex\"])\n",
    "    df[\"Sex\"]=encoded\n",
    "    \n",
    "    encoder2=LabelEncoder()\n",
    "    encoded = encoder2.fit_transform(df[\"Embarked\"])\n",
    "    df[\"Embarked\"]=encoded\n",
    "\n",
    "    df['Age'] = df['Age'].fillna(df['Age'].mean())\n",
    "    return df"
   ]
  },
  {
   "cell_type": "code",
   "execution_count": 5,
   "id": "a6134dbe",
   "metadata": {
    "execution": {
     "iopub.execute_input": "2025-07-31T11:12:19.854061Z",
     "iopub.status.busy": "2025-07-31T11:12:19.853229Z",
     "iopub.status.idle": "2025-07-31T11:12:19.858329Z",
     "shell.execute_reply": "2025-07-31T11:12:19.857372Z"
    },
    "papermill": {
     "duration": 0.011142,
     "end_time": "2025-07-31T11:12:19.859865",
     "exception": false,
     "start_time": "2025-07-31T11:12:19.848723",
     "status": "completed"
    },
    "tags": []
   },
   "outputs": [],
   "source": [
    "def CheckNull(df):\n",
    "    plt.figure(figsize=(12, 6))\n",
    "    sns.heatmap(df.isnull(), cbar=False, cmap=\"viridis\", yticklabels=False)\n",
    "    plt.title(\"Missing Values Heatmap\")\n",
    "    plt.show()"
   ]
  },
  {
   "cell_type": "code",
   "execution_count": 6,
   "id": "508d8a21",
   "metadata": {
    "execution": {
     "iopub.execute_input": "2025-07-31T11:12:19.869303Z",
     "iopub.status.busy": "2025-07-31T11:12:19.868241Z",
     "iopub.status.idle": "2025-07-31T11:12:19.885786Z",
     "shell.execute_reply": "2025-07-31T11:12:19.885032Z"
    },
    "papermill": {
     "duration": 0.023722,
     "end_time": "2025-07-31T11:12:19.887334",
     "exception": false,
     "start_time": "2025-07-31T11:12:19.863612",
     "status": "completed"
    },
    "tags": []
   },
   "outputs": [],
   "source": [
    "df=Preprocessing(df)"
   ]
  },
  {
   "cell_type": "code",
   "execution_count": 7,
   "id": "1dbc1f16",
   "metadata": {
    "execution": {
     "iopub.execute_input": "2025-07-31T11:12:19.896369Z",
     "iopub.status.busy": "2025-07-31T11:12:19.895698Z",
     "iopub.status.idle": "2025-07-31T11:12:19.901442Z",
     "shell.execute_reply": "2025-07-31T11:12:19.900611Z"
    },
    "papermill": {
     "duration": 0.011753,
     "end_time": "2025-07-31T11:12:19.902882",
     "exception": false,
     "start_time": "2025-07-31T11:12:19.891129",
     "status": "completed"
    },
    "tags": []
   },
   "outputs": [],
   "source": [
    "X=df.drop(\"Survived\",axis=1)\n",
    "y=df[\"Survived\"]"
   ]
  },
  {
   "cell_type": "code",
   "execution_count": 8,
   "id": "f9f7c95e",
   "metadata": {
    "execution": {
     "iopub.execute_input": "2025-07-31T11:12:19.912079Z",
     "iopub.status.busy": "2025-07-31T11:12:19.911418Z",
     "iopub.status.idle": "2025-07-31T11:12:20.277742Z",
     "shell.execute_reply": "2025-07-31T11:12:20.275628Z"
    },
    "papermill": {
     "duration": 0.373418,
     "end_time": "2025-07-31T11:12:20.280051",
     "exception": false,
     "start_time": "2025-07-31T11:12:19.906633",
     "status": "completed"
    },
    "tags": []
   },
   "outputs": [
    {
     "data": {
      "text/html": [
       "<style>#sk-container-id-1 {color: black;background-color: white;}#sk-container-id-1 pre{padding: 0;}#sk-container-id-1 div.sk-toggleable {background-color: white;}#sk-container-id-1 label.sk-toggleable__label {cursor: pointer;display: block;width: 100%;margin-bottom: 0;padding: 0.3em;box-sizing: border-box;text-align: center;}#sk-container-id-1 label.sk-toggleable__label-arrow:before {content: \"▸\";float: left;margin-right: 0.25em;color: #696969;}#sk-container-id-1 label.sk-toggleable__label-arrow:hover:before {color: black;}#sk-container-id-1 div.sk-estimator:hover label.sk-toggleable__label-arrow:before {color: black;}#sk-container-id-1 div.sk-toggleable__content {max-height: 0;max-width: 0;overflow: hidden;text-align: left;background-color: #f0f8ff;}#sk-container-id-1 div.sk-toggleable__content pre {margin: 0.2em;color: black;border-radius: 0.25em;background-color: #f0f8ff;}#sk-container-id-1 input.sk-toggleable__control:checked~div.sk-toggleable__content {max-height: 200px;max-width: 100%;overflow: auto;}#sk-container-id-1 input.sk-toggleable__control:checked~label.sk-toggleable__label-arrow:before {content: \"▾\";}#sk-container-id-1 div.sk-estimator input.sk-toggleable__control:checked~label.sk-toggleable__label {background-color: #d4ebff;}#sk-container-id-1 div.sk-label input.sk-toggleable__control:checked~label.sk-toggleable__label {background-color: #d4ebff;}#sk-container-id-1 input.sk-hidden--visually {border: 0;clip: rect(1px 1px 1px 1px);clip: rect(1px, 1px, 1px, 1px);height: 1px;margin: -1px;overflow: hidden;padding: 0;position: absolute;width: 1px;}#sk-container-id-1 div.sk-estimator {font-family: monospace;background-color: #f0f8ff;border: 1px dotted black;border-radius: 0.25em;box-sizing: border-box;margin-bottom: 0.5em;}#sk-container-id-1 div.sk-estimator:hover {background-color: #d4ebff;}#sk-container-id-1 div.sk-parallel-item::after {content: \"\";width: 100%;border-bottom: 1px solid gray;flex-grow: 1;}#sk-container-id-1 div.sk-label:hover label.sk-toggleable__label {background-color: #d4ebff;}#sk-container-id-1 div.sk-serial::before {content: \"\";position: absolute;border-left: 1px solid gray;box-sizing: border-box;top: 0;bottom: 0;left: 50%;z-index: 0;}#sk-container-id-1 div.sk-serial {display: flex;flex-direction: column;align-items: center;background-color: white;padding-right: 0.2em;padding-left: 0.2em;position: relative;}#sk-container-id-1 div.sk-item {position: relative;z-index: 1;}#sk-container-id-1 div.sk-parallel {display: flex;align-items: stretch;justify-content: center;background-color: white;position: relative;}#sk-container-id-1 div.sk-item::before, #sk-container-id-1 div.sk-parallel-item::before {content: \"\";position: absolute;border-left: 1px solid gray;box-sizing: border-box;top: 0;bottom: 0;left: 50%;z-index: -1;}#sk-container-id-1 div.sk-parallel-item {display: flex;flex-direction: column;z-index: 1;position: relative;background-color: white;}#sk-container-id-1 div.sk-parallel-item:first-child::after {align-self: flex-end;width: 50%;}#sk-container-id-1 div.sk-parallel-item:last-child::after {align-self: flex-start;width: 50%;}#sk-container-id-1 div.sk-parallel-item:only-child::after {width: 0;}#sk-container-id-1 div.sk-dashed-wrapped {border: 1px dashed gray;margin: 0 0.4em 0.5em 0.4em;box-sizing: border-box;padding-bottom: 0.4em;background-color: white;}#sk-container-id-1 div.sk-label label {font-family: monospace;font-weight: bold;display: inline-block;line-height: 1.2em;}#sk-container-id-1 div.sk-label-container {text-align: center;}#sk-container-id-1 div.sk-container {/* jupyter's `normalize.less` sets `[hidden] { display: none; }` but bootstrap.min.css set `[hidden] { display: none !important; }` so we also need the `!important` here to be able to override the default hidden behavior on the sphinx rendered scikit-learn.org. See: https://github.com/scikit-learn/scikit-learn/issues/21755 */display: inline-block !important;position: relative;}#sk-container-id-1 div.sk-text-repr-fallback {display: none;}</style><div id=\"sk-container-id-1\" class=\"sk-top-container\"><div class=\"sk-text-repr-fallback\"><pre>LogisticRegression()</pre><b>In a Jupyter environment, please rerun this cell to show the HTML representation or trust the notebook. <br />On GitHub, the HTML representation is unable to render, please try loading this page with nbviewer.org.</b></div><div class=\"sk-container\" hidden><div class=\"sk-item\"><div class=\"sk-estimator sk-toggleable\"><input class=\"sk-toggleable__control sk-hidden--visually\" id=\"sk-estimator-id-1\" type=\"checkbox\" checked><label for=\"sk-estimator-id-1\" class=\"sk-toggleable__label sk-toggleable__label-arrow\">LogisticRegression</label><div class=\"sk-toggleable__content\"><pre>LogisticRegression()</pre></div></div></div></div></div>"
      ],
      "text/plain": [
       "LogisticRegression()"
      ]
     },
     "execution_count": 8,
     "metadata": {},
     "output_type": "execute_result"
    }
   ],
   "source": [
    "X_train,X_test,y_train,y_test=train_test_split(X,y,test_size=0.2, random_state=42)\n",
    "\n",
    "model=LogisticRegression()\n",
    "model.fit(X_train,y_train)"
   ]
  },
  {
   "cell_type": "code",
   "execution_count": 9,
   "id": "2c662140",
   "metadata": {
    "execution": {
     "iopub.execute_input": "2025-07-31T11:12:20.295304Z",
     "iopub.status.busy": "2025-07-31T11:12:20.293680Z",
     "iopub.status.idle": "2025-07-31T11:12:20.306051Z",
     "shell.execute_reply": "2025-07-31T11:12:20.305337Z"
    },
    "papermill": {
     "duration": 0.021525,
     "end_time": "2025-07-31T11:12:20.307999",
     "exception": false,
     "start_time": "2025-07-31T11:12:20.286474",
     "status": "completed"
    },
    "tags": []
   },
   "outputs": [
    {
     "data": {
      "text/plain": [
       "0.8100558659217877"
      ]
     },
     "execution_count": 9,
     "metadata": {},
     "output_type": "execute_result"
    }
   ],
   "source": [
    "model.score(X_test,y_test)"
   ]
  },
  {
   "cell_type": "markdown",
   "id": "f0b4064f",
   "metadata": {
    "papermill": {
     "duration": 0.005756,
     "end_time": "2025-07-31T11:12:20.320129",
     "exception": false,
     "start_time": "2025-07-31T11:12:20.314373",
     "status": "completed"
    },
    "tags": []
   },
   "source": [
    "======================================TEST==========================================="
   ]
  },
  {
   "cell_type": "code",
   "execution_count": 10,
   "id": "8f98c924",
   "metadata": {
    "execution": {
     "iopub.execute_input": "2025-07-31T11:12:20.334647Z",
     "iopub.status.busy": "2025-07-31T11:12:20.334320Z",
     "iopub.status.idle": "2025-07-31T11:12:20.349640Z",
     "shell.execute_reply": "2025-07-31T11:12:20.348856Z"
    },
    "papermill": {
     "duration": 0.024216,
     "end_time": "2025-07-31T11:12:20.351623",
     "exception": false,
     "start_time": "2025-07-31T11:12:20.327407",
     "status": "completed"
    },
    "tags": []
   },
   "outputs": [],
   "source": [
    "df=pd.read_csv(\"/kaggle/input/titanic/test.csv\")"
   ]
  },
  {
   "cell_type": "code",
   "execution_count": 11,
   "id": "530eb053",
   "metadata": {
    "execution": {
     "iopub.execute_input": "2025-07-31T11:12:20.365567Z",
     "iopub.status.busy": "2025-07-31T11:12:20.365211Z",
     "iopub.status.idle": "2025-07-31T11:12:20.376128Z",
     "shell.execute_reply": "2025-07-31T11:12:20.375360Z"
    },
    "papermill": {
     "duration": 0.019992,
     "end_time": "2025-07-31T11:12:20.378165",
     "exception": false,
     "start_time": "2025-07-31T11:12:20.358173",
     "status": "completed"
    },
    "tags": []
   },
   "outputs": [],
   "source": [
    "df=Preprocessing(df)"
   ]
  },
  {
   "cell_type": "code",
   "execution_count": 12,
   "id": "378df2cf",
   "metadata": {
    "execution": {
     "iopub.execute_input": "2025-07-31T11:12:20.389848Z",
     "iopub.status.busy": "2025-07-31T11:12:20.389310Z",
     "iopub.status.idle": "2025-07-31T11:12:20.395264Z",
     "shell.execute_reply": "2025-07-31T11:12:20.394660Z"
    },
    "papermill": {
     "duration": 0.012367,
     "end_time": "2025-07-31T11:12:20.396768",
     "exception": false,
     "start_time": "2025-07-31T11:12:20.384401",
     "status": "completed"
    },
    "tags": []
   },
   "outputs": [
    {
     "data": {
      "text/plain": [
       "418"
      ]
     },
     "execution_count": 12,
     "metadata": {},
     "output_type": "execute_result"
    }
   ],
   "source": [
    "df[\"Fare\"]=df[\"Fare\"].fillna(df[\"Fare\"].mean())\n",
    "len(df)"
   ]
  },
  {
   "cell_type": "code",
   "execution_count": 13,
   "id": "7ed2802d",
   "metadata": {
    "execution": {
     "iopub.execute_input": "2025-07-31T11:12:20.406269Z",
     "iopub.status.busy": "2025-07-31T11:12:20.405696Z",
     "iopub.status.idle": "2025-07-31T11:12:20.623196Z",
     "shell.execute_reply": "2025-07-31T11:12:20.622173Z"
    },
    "papermill": {
     "duration": 0.22392,
     "end_time": "2025-07-31T11:12:20.624680",
     "exception": false,
     "start_time": "2025-07-31T11:12:20.400760",
     "status": "completed"
    },
    "tags": []
   },
   "outputs": [
    {
     "data": {
      "image/png": "[encoded data removed]",
      "text/plain": [
       "<Figure size 1200x600 with 1 Axes>"
      ]
     },
     "metadata": {},
     "output_type": "display_data"
    }
   ],
   "source": [
    "CheckNull(df)"
   ]
  },
  {
   "cell_type": "code",
   "execution_count": 14,
   "id": "00dcc085",
   "metadata": {
    "execution": {
     "iopub.execute_input": "2025-07-31T11:12:20.634532Z",
     "iopub.status.busy": "2025-07-31T11:12:20.634186Z",
     "iopub.status.idle": "2025-07-31T11:12:20.642227Z",
     "shell.execute_reply": "2025-07-31T11:12:20.641102Z"
    },
    "papermill": {
     "duration": 0.014536,
     "end_time": "2025-07-31T11:12:20.643615",
     "exception": false,
     "start_time": "2025-07-31T11:12:20.629079",
     "status": "completed"
    },
    "tags": []
   },
   "outputs": [
    {
     "name": "stdout",
     "output_type": "stream",
     "text": [
      "[0 0 0 0 1 0 1 0 1 0 0 0 1 0 1 1 0 0 1 1 0 0 1 1 1 0 1 0 0 0 0 0 0 0 0 0 1\n",
      " 1 0 0 0 0 0 1 1 0 0 0 1 1 0 0 1 1 0 0 0 0 0 1 0 0 0 1 1 1 1 0 1 1 1 0 1 1\n",
      " 1 1 0 1 0 1 0 0 0 0 0 0 1 1 1 0 1 0 1 0 1 0 1 0 1 0 1 0 0 0 1 0 0 0 0 0 0\n",
      " 1 1 1 1 0 0 1 1 1 1 0 1 0 0 1 0 1 0 0 0 0 1 0 0 0 0 0 1 0 0 1 0 0 0 0 0 0\n",
      " 0 0 1 0 0 1 0 0 1 1 0 1 1 0 1 0 0 1 0 0 1 1 0 0 0 0 0 1 1 0 1 1 0 0 1 0 1\n",
      " 0 1 0 0 0 0 0 0 0 0 0 1 1 0 1 1 0 0 1 0 1 1 0 1 0 0 0 0 1 0 0 1 0 1 0 1 0\n",
      " 1 0 1 1 0 1 0 0 0 1 0 0 0 0 0 0 1 1 1 1 0 0 0 0 1 0 1 1 1 0 1 0 0 0 0 0 1\n",
      " 0 0 0 1 1 0 0 0 0 1 0 0 0 1 1 0 1 0 0 0 0 1 0 1 1 1 0 0 0 0 0 0 1 0 0 0 0\n",
      " 1 0 0 0 0 0 0 0 1 1 0 0 0 0 0 0 0 1 1 1 0 0 0 0 0 0 0 0 1 0 1 0 0 0 1 0 0\n",
      " 1 0 0 0 0 0 0 0 0 0 1 0 1 0 1 0 1 1 0 0 0 1 0 1 0 0 1 0 1 1 0 1 0 0 1 1 0\n",
      " 0 1 0 0 1 1 1 0 0 0 0 0 1 1 0 1 0 0 0 0 1 1 0 0 0 1 0 1 0 0 1 0 1 1 0 0 0\n",
      " 0 1 1 1 1 1 0 1 0 0 0]\n"
     ]
    }
   ],
   "source": [
    "predict=model.predict(df)\n",
    "print(predict)"
   ]
  },
  {
   "cell_type": "code",
   "execution_count": 15,
   "id": "24377b1c",
   "metadata": {
    "execution": {
     "iopub.execute_input": "2025-07-31T11:12:20.654363Z",
     "iopub.status.busy": "2025-07-31T11:12:20.653995Z",
     "iopub.status.idle": "2025-07-31T11:12:20.663084Z",
     "shell.execute_reply": "2025-07-31T11:12:20.662303Z"
    },
    "papermill": {
     "duration": 0.01604,
     "end_time": "2025-07-31T11:12:20.664785",
     "exception": false,
     "start_time": "2025-07-31T11:12:20.648745",
     "status": "completed"
    },
    "tags": []
   },
   "outputs": [],
   "source": [
    "df=pd.read_csv(\"/kaggle/input/titanic/test.csv\")\n",
    "submission = pd.DataFrame({\n",
    "    'PassengerId': df['PassengerId'],\n",
    "    'Survived': predict\n",
    "})"
   ]
  },
  {
   "cell_type": "code",
   "execution_count": 16,
   "id": "a2dfceff",
   "metadata": {
    "execution": {
     "iopub.execute_input": "2025-07-31T11:12:20.675336Z",
     "iopub.status.busy": "2025-07-31T11:12:20.674610Z",
     "iopub.status.idle": "2025-07-31T11:12:20.684378Z",
     "shell.execute_reply": "2025-07-31T11:12:20.683546Z"
    },
    "papermill": {
     "duration": 0.016695,
     "end_time": "2025-07-31T11:12:20.686035",
     "exception": false,
     "start_time": "2025-07-31T11:12:20.669340",
     "status": "completed"
    },
    "tags": []
   },
   "outputs": [],
   "source": [
    "submission.to_csv('final.csv', index=False)"
   ]
  }
 ],
 "metadata": {
  "kaggle": {
   "accelerator": "none",
   "dataSources": [
    {
     "databundleVersionId": 26502,
     "sourceId": 3136,
     "sourceType": "competition"
    }
   ],
   "dockerImageVersionId": 31089,
   "isGpuEnabled": false,
   "isInternetEnabled": false,
   "language": "python",
   "sourceType": "notebook"
  },
  "kernelspec": {
   "display_name": "Python 3",
   "language": "python",
   "name": "python3"
  },
  "language_info": {
   "codemirror_mode": {
    "name": "ipython",
    "version": 3
   },
   "file_extension": ".py",
   "mimetype": "text/x-python",
   "name": "python",
   "nbconvert_exporter": "python",
   "pygments_lexer": "ipython3",
   "version": "3.11.13"
  },
  "papermill": {
   "default_parameters": {},
   "duration": 10.914904,
   "end_time": "2025-07-31T11:12:21.410928",
   "environment_variables": {},
   "exception": null,
   "input_path": "__notebook__.ipynb",
   "output_path": "__notebook__.ipynb",
   "parameters": {},
   "start_time": "2025-07-31T11:12:10.496024",
   "version": "2.6.0"
  }
 },
 "nbformat": 4,
 "nbformat_minor": 5
}
