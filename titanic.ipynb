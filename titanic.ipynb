{
 "cells": [
  {
   "cell_type": "code",
   "execution_count": 1,
   "id": "6309acfe",
   "metadata": {
    "_cell_guid": "b1076dfc-b9ad-4769-8c92-a6c4dae69d19",
    "_uuid": "8f2839f25d086af736a60e9eeb907d3b93b6e0e5",
    "execution": {
     "iopub.execute_input": "2025-08-03T02:58:32.528129Z",
     "iopub.status.busy": "2025-08-03T02:58:32.527764Z",
     "iopub.status.idle": "2025-08-03T02:58:35.189985Z",
     "shell.execute_reply": "2025-08-03T02:58:35.188652Z"
    },
    "papermill": {
     "duration": 2.669636,
     "end_time": "2025-08-03T02:58:35.191857",
     "exception": false,
     "start_time": "2025-08-03T02:58:32.522221",
     "status": "completed"
    },
    "tags": []
   },
   "outputs": [
    {
     "name": "stdout",
     "output_type": "stream",
     "text": [
      "/kaggle/input/titanic/train.csv\n",
      "/kaggle/input/titanic/test.csv\n",
      "/kaggle/input/titanic/gender_submission.csv\n"
     ]
    }
   ],
   "source": [
    "# This Python 3 environment comes with many helpful analytics libraries installed\n",
    "# It is defined by the kaggle/python Docker image: https://github.com/kaggle/docker-python\n",
    "# For example, here's several helpful packages to load\n",
    "\n",
    "import numpy as np # linear algebra\n",
    "import pandas as pd # data processing, CSV file I/O (e.g. pd.read_csv)\n",
    "\n",
    "# Input data files are available in the read-only \"../input/\" directory\n",
    "# For example, running this (by clicking run or pressing Shift+Enter) will list all files under the input directory\n",
    "\n",
    "import os\n",
    "for dirname, _, filenames in os.walk('/kaggle/input'):\n",
    "    for filename in filenames:\n",
    "        print(os.path.join(dirname, filename))\n",
    "\n",
    "# You can write up to 20GB to the current directory (/kaggle/working/) that gets preserved as output when you create a version using \"Save & Run All\" \n",
    "# You can also write temporary files to /kaggle/temp/, but they won't be saved outside of the current session"
   ]
  },
  {
   "cell_type": "code",
   "execution_count": 2,
   "id": "51a0266e",
   "metadata": {
    "execution": {
     "iopub.execute_input": "2025-08-03T02:58:35.200766Z",
     "iopub.status.busy": "2025-08-03T02:58:35.200179Z",
     "iopub.status.idle": "2025-08-03T02:58:46.735935Z",
     "shell.execute_reply": "2025-08-03T02:58:46.734614Z"
    },
    "papermill": {
     "duration": 11.542921,
     "end_time": "2025-08-03T02:58:46.738743",
     "exception": false,
     "start_time": "2025-08-03T02:58:35.195822",
     "status": "completed"
    },
    "tags": []
   },
   "outputs": [],
   "source": [
    "#%load_ext cuml.accel\n",
    "from sklearn.impute import SimpleImputer\n",
    "from sklearn.compose import ColumnTransformer\n",
    "from sklearn.preprocessing import OrdinalEncoder, LabelEncoder\n",
    "from sklearn.pipeline import Pipeline\n",
    "from sklearn.preprocessing import OneHotEncoder, StandardScaler\n",
    "from sklearn.ensemble import StackingClassifier\n",
    "from sklearn.linear_model import LogisticRegression\n",
    "from sklearn.ensemble import RandomForestClassifier, GradientBoostingClassifier, VotingClassifier\n",
    "from sklearn.model_selection import cross_val_score\n",
    "from sklearn.svm import SVC\n",
    "from lightgbm import LGBMClassifier\n",
    "from sklearn.neighbors import KNeighborsClassifier\n",
    "from xgboost import XGBClassifier\n",
    "from catboost import CatBoostClassifier\n",
    "from sklearn.model_selection import GridSearchCV\n",
    "from sklearn.model_selection import RandomizedSearchCV"
   ]
  },
  {
   "cell_type": "code",
   "execution_count": 3,
   "id": "257220dc",
   "metadata": {
    "execution": {
     "iopub.execute_input": "2025-08-03T02:58:46.749250Z",
     "iopub.status.busy": "2025-08-03T02:58:46.748519Z",
     "iopub.status.idle": "2025-08-03T02:58:46.802638Z",
     "shell.execute_reply": "2025-08-03T02:58:46.800622Z"
    },
    "papermill": {
     "duration": 0.061699,
     "end_time": "2025-08-03T02:58:46.804726",
     "exception": false,
     "start_time": "2025-08-03T02:58:46.743027",
     "status": "completed"
    },
    "tags": []
   },
   "outputs": [
    {
     "data": {
      "text/html": [
       "<div>\n",
       "<style scoped>\n",
       "    .dataframe tbody tr th:only-of-type {\n",
       "        vertical-align: middle;\n",
       "    }\n",
       "\n",
       "    .dataframe tbody tr th {\n",
       "        vertical-align: top;\n",
       "    }\n",
       "\n",
       "    .dataframe thead th {\n",
       "        text-align: right;\n",
       "    }\n",
       "</style>\n",
       "<table border=\"1\" class=\"dataframe\">\n",
       "  <thead>\n",
       "    <tr style=\"text-align: right;\">\n",
       "      <th></th>\n",
       "      <th>PassengerId</th>\n",
       "      <th>Survived</th>\n",
       "      <th>Pclass</th>\n",
       "      <th>Name</th>\n",
       "      <th>Sex</th>\n",
       "      <th>Age</th>\n",
       "      <th>SibSp</th>\n",
       "      <th>Parch</th>\n",
       "      <th>Ticket</th>\n",
       "      <th>Fare</th>\n",
       "      <th>Cabin</th>\n",
       "      <th>Embarked</th>\n",
       "    </tr>\n",
       "  </thead>\n",
       "  <tbody>\n",
       "    <tr>\n",
       "      <th>0</th>\n",
       "      <td>1</td>\n",
       "      <td>0</td>\n",
       "      <td>3</td>\n",
       "      <td>Braund, Mr. Owen Harris</td>\n",
       "      <td>male</td>\n",
       "      <td>22.0</td>\n",
       "      <td>1</td>\n",
       "      <td>0</td>\n",
       "      <td>A/5 21171</td>\n",
       "      <td>7.2500</td>\n",
       "      <td>NaN</td>\n",
       "      <td>S</td>\n",
       "    </tr>\n",
       "    <tr>\n",
       "      <th>1</th>\n",
       "      <td>2</td>\n",
       "      <td>1</td>\n",
       "      <td>1</td>\n",
       "      <td>Cumings, Mrs. John Bradley (Florence Briggs Th...</td>\n",
       "      <td>female</td>\n",
       "      <td>38.0</td>\n",
       "      <td>1</td>\n",
       "      <td>0</td>\n",
       "      <td>PC 17599</td>\n",
       "      <td>71.2833</td>\n",
       "      <td>C85</td>\n",
       "      <td>C</td>\n",
       "    </tr>\n",
       "    <tr>\n",
       "      <th>2</th>\n",
       "      <td>3</td>\n",
       "      <td>1</td>\n",
       "      <td>3</td>\n",
       "      <td>Heikkinen, Miss. Laina</td>\n",
       "      <td>female</td>\n",
       "      <td>26.0</td>\n",
       "      <td>0</td>\n",
       "      <td>0</td>\n",
       "      <td>STON/O2. 3101282</td>\n",
       "      <td>7.9250</td>\n",
       "      <td>NaN</td>\n",
       "      <td>S</td>\n",
       "    </tr>\n",
       "    <tr>\n",
       "      <th>3</th>\n",
       "      <td>4</td>\n",
       "      <td>1</td>\n",
       "      <td>1</td>\n",
       "      <td>Futrelle, Mrs. Jacques Heath (Lily May Peel)</td>\n",
       "      <td>female</td>\n",
       "      <td>35.0</td>\n",
       "      <td>1</td>\n",
       "      <td>0</td>\n",
       "      <td>113803</td>\n",
       "      <td>53.1000</td>\n",
       "      <td>C123</td>\n",
       "      <td>S</td>\n",
       "    </tr>\n",
       "    <tr>\n",
       "      <th>4</th>\n",
       "      <td>5</td>\n",
       "      <td>0</td>\n",
       "      <td>3</td>\n",
       "      <td>Allen, Mr. William Henry</td>\n",
       "      <td>male</td>\n",
       "      <td>35.0</td>\n",
       "      <td>0</td>\n",
       "      <td>0</td>\n",
       "      <td>373450</td>\n",
       "      <td>8.0500</td>\n",
       "      <td>NaN</td>\n",
       "      <td>S</td>\n",
       "    </tr>\n",
       "  </tbody>\n",
       "</table>\n",
       "</div>"
      ],
      "text/plain": [
       "   PassengerId  Survived  Pclass  \\\n",
       "0            1         0       3   \n",
       "1            2         1       1   \n",
       "2            3         1       3   \n",
       "3            4         1       1   \n",
       "4            5         0       3   \n",
       "\n",
       "                                                Name     Sex   Age  SibSp  \\\n",
       "0                            Braund, Mr. Owen Harris    male  22.0      1   \n",
       "1  Cumings, Mrs. John Bradley (Florence Briggs Th...  female  38.0      1   \n",
       "2                             Heikkinen, Miss. Laina  female  26.0      0   \n",
       "3       Futrelle, Mrs. Jacques Heath (Lily May Peel)  female  35.0      1   \n",
       "4                           Allen, Mr. William Henry    male  35.0      0   \n",
       "\n",
       "   Parch            Ticket     Fare Cabin Embarked  \n",
       "0      0         A/5 21171   7.2500   NaN        S  \n",
       "1      0          PC 17599  71.2833   C85        C  \n",
       "2      0  STON/O2. 3101282   7.9250   NaN        S  \n",
       "3      0            113803  53.1000  C123        S  \n",
       "4      0            373450   8.0500   NaN        S  "
      ]
     },
     "execution_count": 3,
     "metadata": {},
     "output_type": "execute_result"
    }
   ],
   "source": [
    "df=pd.read_csv(\"/kaggle/input/titanic/train.csv\")\n",
    "df.head()"
   ]
  },
  {
   "cell_type": "code",
   "execution_count": 4,
   "id": "6c1901f9",
   "metadata": {
    "execution": {
     "iopub.execute_input": "2025-08-03T02:58:46.814528Z",
     "iopub.status.busy": "2025-08-03T02:58:46.814168Z",
     "iopub.status.idle": "2025-08-03T02:58:46.830165Z",
     "shell.execute_reply": "2025-08-03T02:58:46.829057Z"
    },
    "papermill": {
     "duration": 0.023124,
     "end_time": "2025-08-03T02:58:46.832209",
     "exception": false,
     "start_time": "2025-08-03T02:58:46.809085",
     "status": "completed"
    },
    "tags": []
   },
   "outputs": [],
   "source": [
    "X= df.drop(columns=[\"PassengerId\",\"Name\",\"Ticket\"])\n",
    "y=df[\"Survived\"]"
   ]
  },
  {
   "cell_type": "code",
   "execution_count": 5,
   "id": "e2602e0b",
   "metadata": {
    "execution": {
     "iopub.execute_input": "2025-08-03T02:58:46.841439Z",
     "iopub.status.busy": "2025-08-03T02:58:46.841084Z",
     "iopub.status.idle": "2025-08-03T02:58:46.848389Z",
     "shell.execute_reply": "2025-08-03T02:58:46.847028Z"
    },
    "papermill": {
     "duration": 0.014346,
     "end_time": "2025-08-03T02:58:46.850399",
     "exception": false,
     "start_time": "2025-08-03T02:58:46.836053",
     "status": "completed"
    },
    "tags": []
   },
   "outputs": [],
   "source": [
    "cat_pipeline = Pipeline([\n",
    "    ('imputer', SimpleImputer(strategy='most_frequent')),  # handle NaNs\n",
    "    ('encoder', OneHotEncoder(handle_unknown='ignore'))    # encode after imputin\n",
    "])\n",
    "\n",
    "num_pipeline = Pipeline([\n",
    "    ('imputer', SimpleImputer(strategy='mean')),  # fill NaNs\n",
    "    ('scaler', StandardScaler())\n",
    "])\n",
    "\n",
    "preprocessor = ColumnTransformer(transformers=[\n",
    "    ('cat', cat_pipeline, [\"Sex\",\"Cabin\",\"Embarked\"]),\n",
    "    (\"num\",num_pipeline,[\"Pclass\",\"Age\",\"SibSp\",\"Parch\",\"Fare\"])\n",
    "])"
   ]
  },
  {
   "cell_type": "code",
   "execution_count": 6,
   "id": "73a255d2",
   "metadata": {
    "execution": {
     "iopub.execute_input": "2025-08-03T02:58:46.859184Z",
     "iopub.status.busy": "2025-08-03T02:58:46.858867Z",
     "iopub.status.idle": "2025-08-03T02:58:57.744590Z",
     "shell.execute_reply": "2025-08-03T02:58:57.742412Z"
    },
    "papermill": {
     "duration": 10.892767,
     "end_time": "2025-08-03T02:58:57.746922",
     "exception": false,
     "start_time": "2025-08-03T02:58:46.854155",
     "status": "completed"
    },
    "tags": []
   },
   "outputs": [
    {
     "name": "stdout",
     "output_type": "stream",
     "text": [
      "CV Accuracy: 0.826 ± 0.019\n"
     ]
    }
   ],
   "source": [
    "rf = RandomForestClassifier()\n",
    "cat = CatBoostClassifier(verbose=False)\n",
    "lg = LogisticRegression()\n",
    "\n",
    "\n",
    "# Combine with Voting\n",
    "voting_clf = VotingClassifier(\n",
    "    estimators=[\n",
    "         ('rf', rf),\n",
    "        ('cat', cat),\n",
    "        ('lg', lg),\n",
    "    ],\n",
    "    voting='soft'  # or 'hard'\n",
    ")\n",
    "\n",
    "# Final pipeline with preprocessing + ensemble\n",
    "pipe = Pipeline([\n",
    "    ('preprocessor', preprocessor),\n",
    "    ('classifier', voting_clf)\n",
    "])\n",
    "\n",
    "scores = cross_val_score(pipe, X, y, cv=5, scoring='accuracy')\n",
    "print(f'CV Accuracy: {scores.mean():.3f} ± {scores.std():.3f}')"
   ]
  },
  {
   "cell_type": "code",
   "execution_count": 7,
   "id": "05a1c67f",
   "metadata": {
    "execution": {
     "iopub.execute_input": "2025-08-03T02:58:57.761143Z",
     "iopub.status.busy": "2025-08-03T02:58:57.760753Z",
     "iopub.status.idle": "2025-08-03T02:59:00.029177Z",
     "shell.execute_reply": "2025-08-03T02:59:00.028088Z"
    },
    "papermill": {
     "duration": 2.27961,
     "end_time": "2025-08-03T02:59:00.032271",
     "exception": false,
     "start_time": "2025-08-03T02:58:57.752661",
     "status": "completed"
    },
    "tags": []
   },
   "outputs": [],
   "source": [
    "best_estimator=pipe.fit(X,y)"
   ]
  },
  {
   "cell_type": "markdown",
   "id": "6411f1c8",
   "metadata": {
    "papermill": {
     "duration": 0.00794,
     "end_time": "2025-08-03T02:59:00.045949",
     "exception": false,
     "start_time": "2025-08-03T02:59:00.038009",
     "status": "completed"
    },
    "tags": []
   },
   "source": [
    "+++++++++++++++++++++++++++++++++TEST++++++++++++++++++++++++++++++++++++++++"
   ]
  },
  {
   "cell_type": "code",
   "execution_count": 8,
   "id": "efdba3d1",
   "metadata": {
    "execution": {
     "iopub.execute_input": "2025-08-03T02:59:00.061539Z",
     "iopub.status.busy": "2025-08-03T02:59:00.061127Z",
     "iopub.status.idle": "2025-08-03T02:59:00.075696Z",
     "shell.execute_reply": "2025-08-03T02:59:00.074450Z"
    },
    "papermill": {
     "duration": 0.024301,
     "end_time": "2025-08-03T02:59:00.077645",
     "exception": false,
     "start_time": "2025-08-03T02:59:00.053344",
     "status": "completed"
    },
    "tags": []
   },
   "outputs": [],
   "source": [
    "df = pd.read_csv(\"/kaggle/input/titanic/test.csv\")"
   ]
  },
  {
   "cell_type": "code",
   "execution_count": 9,
   "id": "ef4230ba",
   "metadata": {
    "execution": {
     "iopub.execute_input": "2025-08-03T02:59:00.092213Z",
     "iopub.status.busy": "2025-08-03T02:59:00.090367Z",
     "iopub.status.idle": "2025-08-03T02:59:00.098180Z",
     "shell.execute_reply": "2025-08-03T02:59:00.097351Z"
    },
    "papermill": {
     "duration": 0.017438,
     "end_time": "2025-08-03T02:59:00.100953",
     "exception": false,
     "start_time": "2025-08-03T02:59:00.083515",
     "status": "completed"
    },
    "tags": []
   },
   "outputs": [],
   "source": [
    "X= df.drop(columns=[\"PassengerId\",\"Name\",\"Ticket\"])"
   ]
  },
  {
   "cell_type": "code",
   "execution_count": 10,
   "id": "ed87b40f",
   "metadata": {
    "execution": {
     "iopub.execute_input": "2025-08-03T02:59:00.115447Z",
     "iopub.status.busy": "2025-08-03T02:59:00.115079Z",
     "iopub.status.idle": "2025-08-03T02:59:00.161593Z",
     "shell.execute_reply": "2025-08-03T02:59:00.159987Z"
    },
    "papermill": {
     "duration": 0.055903,
     "end_time": "2025-08-03T02:59:00.164125",
     "exception": false,
     "start_time": "2025-08-03T02:59:00.108222",
     "status": "completed"
    },
    "tags": []
   },
   "outputs": [],
   "source": [
    "predictions = best_estimator.predict(X)"
   ]
  },
  {
   "cell_type": "code",
   "execution_count": 11,
   "id": "522d7fe0",
   "metadata": {
    "execution": {
     "iopub.execute_input": "2025-08-03T02:59:00.173979Z",
     "iopub.status.busy": "2025-08-03T02:59:00.173594Z",
     "iopub.status.idle": "2025-08-03T02:59:00.196910Z",
     "shell.execute_reply": "2025-08-03T02:59:00.194984Z"
    },
    "papermill": {
     "duration": 0.030997,
     "end_time": "2025-08-03T02:59:00.198838",
     "exception": false,
     "start_time": "2025-08-03T02:59:00.167841",
     "status": "completed"
    },
    "tags": []
   },
   "outputs": [
    {
     "name": "stdout",
     "output_type": "stream",
     "text": [
      "📁 Saved submission.csv for Kaggle\n"
     ]
    }
   ],
   "source": [
    "submission = pd.DataFrame({\n",
    "    \"PassengerId\": df[\"PassengerId\"],\n",
    "    \"Transported\": predictions  # Make sure it's True/False not 1/0\n",
    "})\n",
    "\n",
    "submission.to_csv(\"submission.csv\", index=False)\n",
    "print(\"📁 Saved submission.csv for Kaggle\")"
   ]
  }
 ],
 "metadata": {
  "kaggle": {
   "accelerator": "none",
   "dataSources": [
    {
     "databundleVersionId": 26502,
     "sourceId": 3136,
     "sourceType": "competition"
    }
   ],
   "dockerImageVersionId": 31089,
   "isGpuEnabled": false,
   "isInternetEnabled": false,
   "language": "python",
   "sourceType": "notebook"
  },
  "kernelspec": {
   "display_name": "Python 3",
   "language": "python",
   "name": "python3"
  },
  "language_info": {
   "codemirror_mode": {
    "name": "ipython",
    "version": 3
   },
   "file_extension": ".py",
   "mimetype": "text/x-python",
   "name": "python",
   "nbconvert_exporter": "python",
   "pygments_lexer": "ipython3",
   "version": "3.11.13"
  },
  "papermill": {
   "default_parameters": {},
   "duration": 34.957528,
   "end_time": "2025-08-03T02:59:01.226414",
   "environment_variables": {},
   "exception": null,
   "input_path": "__notebook__.ipynb",
   "output_path": "__notebook__.ipynb",
   "parameters": {},
   "start_time": "2025-08-03T02:58:26.268886",
   "version": "2.6.0"
  }
 },
 "nbformat": 4,
 "nbformat_minor": 5
}
