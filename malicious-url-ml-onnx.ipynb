{
 "cells": [
  {
   "cell_type": "code",
   "execution_count": 1,
   "id": "567bcb22",
   "metadata": {
    "execution": {
     "iopub.execute_input": "2025-08-18T12:08:46.841091Z",
     "iopub.status.busy": "2025-08-18T12:08:46.840418Z",
     "iopub.status.idle": "2025-08-18T12:08:54.741058Z",
     "shell.execute_reply": "2025-08-18T12:08:54.740328Z"
    },
    "papermill": {
     "duration": 7.905742,
     "end_time": "2025-08-18T12:08:54.742442",
     "exception": false,
     "start_time": "2025-08-18T12:08:46.836700",
     "status": "completed"
    },
    "tags": []
   },
   "outputs": [
    {
     "name": "stdout",
     "output_type": "stream",
     "text": [
      "Collecting skl2onnx\r\n",
      "  Downloading skl2onnx-1.19.1-py3-none-any.whl.metadata (3.8 kB)\r\n",
      "Requirement already satisfied: onnx in /usr/local/lib/python3.11/dist-packages (1.17.0)\r\n",
      "Collecting onnxruntime\r\n",
      "  Downloading onnxruntime-1.22.1-cp311-cp311-manylinux_2_27_x86_64.manylinux_2_28_x86_64.whl.metadata (4.6 kB)\r\n",
      "Requirement already satisfied: scikit-learn>=1.1 in /usr/local/lib/python3.11/dist-packages (from skl2onnx) (1.2.2)\r\n",
      "Requirement already satisfied: numpy>=1.20 in /usr/local/lib/python3.11/dist-packages (from onnx) (1.26.4)\r\n",
      "Requirement already satisfied: protobuf>=3.20.2 in /usr/local/lib/python3.11/dist-packages (from onnx) (3.20.3)\r\n",
      "Collecting coloredlogs (from onnxruntime)\r\n",
      "  Downloading coloredlogs-15.0.1-py2.py3-none-any.whl.metadata (12 kB)\r\n",
      "Requirement already satisfied: flatbuffers in /usr/local/lib/python3.11/dist-packages (from onnxruntime) (25.2.10)\r\n",
      "Requirement already satisfied: packaging in /usr/local/lib/python3.11/dist-packages (from onnxruntime) (25.0)\r\n",
      "Requirement already satisfied: sympy in /usr/local/lib/python3.11/dist-packages (from onnxruntime) (1.13.1)\r\n",
      "Requirement already satisfied: mkl_fft in /usr/local/lib/python3.11/dist-packages (from numpy>=1.20->onnx) (1.3.8)\r\n",
      "Requirement already satisfied: mkl_random in /usr/local/lib/python3.11/dist-packages (from numpy>=1.20->onnx) (1.2.4)\r\n",
      "Requirement already satisfied: mkl_umath in /usr/local/lib/python3.11/dist-packages (from numpy>=1.20->onnx) (0.1.1)\r\n",
      "Requirement already satisfied: mkl in /usr/local/lib/python3.11/dist-packages (from numpy>=1.20->onnx) (2025.1.0)\r\n",
      "Requirement already satisfied: tbb4py in /usr/local/lib/python3.11/dist-packages (from numpy>=1.20->onnx) (2022.1.0)\r\n",
      "Requirement already satisfied: mkl-service in /usr/local/lib/python3.11/dist-packages (from numpy>=1.20->onnx) (2.4.1)\r\n",
      "Requirement already satisfied: scipy>=1.3.2 in /usr/local/lib/python3.11/dist-packages (from scikit-learn>=1.1->skl2onnx) (1.15.2)\r\n",
      "Requirement already satisfied: joblib>=1.1.1 in /usr/local/lib/python3.11/dist-packages (from scikit-learn>=1.1->skl2onnx) (1.5.0)\r\n",
      "Requirement already satisfied: threadpoolctl>=2.0.0 in /usr/local/lib/python3.11/dist-packages (from scikit-learn>=1.1->skl2onnx) (3.6.0)\r\n",
      "Collecting humanfriendly>=9.1 (from coloredlogs->onnxruntime)\r\n",
      "  Downloading humanfriendly-10.0-py2.py3-none-any.whl.metadata (9.2 kB)\r\n",
      "Requirement already satisfied: mpmath<1.4,>=1.1.0 in /usr/local/lib/python3.11/dist-packages (from sympy->onnxruntime) (1.3.0)\r\n",
      "Requirement already satisfied: intel-openmp<2026,>=2024 in /usr/local/lib/python3.11/dist-packages (from mkl->numpy>=1.20->onnx) (2024.2.0)\r\n",
      "Requirement already satisfied: tbb==2022.* in /usr/local/lib/python3.11/dist-packages (from mkl->numpy>=1.20->onnx) (2022.1.0)\r\n",
      "Requirement already satisfied: tcmlib==1.* in /usr/local/lib/python3.11/dist-packages (from tbb==2022.*->mkl->numpy>=1.20->onnx) (1.3.0)\r\n",
      "Requirement already satisfied: intel-cmplr-lib-rt in /usr/local/lib/python3.11/dist-packages (from mkl_umath->numpy>=1.20->onnx) (2024.2.0)\r\n",
      "Requirement already satisfied: intel-cmplr-lib-ur==2024.2.0 in /usr/local/lib/python3.11/dist-packages (from intel-openmp<2026,>=2024->mkl->numpy>=1.20->onnx) (2024.2.0)\r\n",
      "Downloading skl2onnx-1.19.1-py3-none-any.whl (315 kB)\r\n",
      "\u001b[2K   \u001b[90m━━━━━━━━━━━━━━━━━━━━━━━━━━━━━━━━━━━━━━━━\u001b[0m \u001b[32m315.5/315.5 kB\u001b[0m \u001b[31m7.0 MB/s\u001b[0m eta \u001b[36m0:00:00\u001b[0m\r\n",
      "\u001b[?25hDownloading onnxruntime-1.22.1-cp311-cp311-manylinux_2_27_x86_64.manylinux_2_28_x86_64.whl (16.5 MB)\r\n",
      "\u001b[2K   \u001b[90m━━━━━━━━━━━━━━━━━━━━━━━━━━━━━━━━━━━━━━━━\u001b[0m \u001b[32m16.5/16.5 MB\u001b[0m \u001b[31m92.7 MB/s\u001b[0m eta \u001b[36m0:00:00\u001b[0m\r\n",
      "\u001b[?25hDownloading coloredlogs-15.0.1-py2.py3-none-any.whl (46 kB)\r\n",
      "\u001b[2K   \u001b[90m━━━━━━━━━━━━━━━━━━━━━━━━━━━━━━━━━━━━━━━━\u001b[0m \u001b[32m46.0/46.0 kB\u001b[0m \u001b[31m2.3 MB/s\u001b[0m eta \u001b[36m0:00:00\u001b[0m\r\n",
      "\u001b[?25hDownloading humanfriendly-10.0-py2.py3-none-any.whl (86 kB)\r\n",
      "\u001b[2K   \u001b[90m━━━━━━━━━━━━━━━━━━━━━━━━━━━━━━━━━━━━━━━━\u001b[0m \u001b[32m86.8/86.8 kB\u001b[0m \u001b[31m4.0 MB/s\u001b[0m eta \u001b[36m0:00:00\u001b[0m\r\n",
      "\u001b[?25hInstalling collected packages: humanfriendly, coloredlogs, skl2onnx, onnxruntime\r\n",
      "Successfully installed coloredlogs-15.0.1 humanfriendly-10.0 onnxruntime-1.22.1 skl2onnx-1.19.1\r\n"
     ]
    }
   ],
   "source": [
    "!pip install skl2onnx onnx onnxruntime"
   ]
  },
  {
   "cell_type": "code",
   "execution_count": 2,
   "id": "a95f8770",
   "metadata": {
    "_cell_guid": "b1076dfc-b9ad-4769-8c92-a6c4dae69d19",
    "_uuid": "8f2839f25d086af736a60e9eeb907d3b93b6e0e5",
    "execution": {
     "iopub.execute_input": "2025-08-18T12:08:54.750727Z",
     "iopub.status.busy": "2025-08-18T12:08:54.750494Z",
     "iopub.status.idle": "2025-08-18T12:08:55.258801Z",
     "shell.execute_reply": "2025-08-18T12:08:55.258110Z"
    },
    "papermill": {
     "duration": 0.513574,
     "end_time": "2025-08-18T12:08:55.260013",
     "exception": false,
     "start_time": "2025-08-18T12:08:54.746439",
     "status": "completed"
    },
    "tags": []
   },
   "outputs": [
    {
     "name": "stdout",
     "output_type": "stream",
     "text": [
      "Path to dataset files: /kaggle/input/benign-and-malicious-urls\n"
     ]
    }
   ],
   "source": [
    "import kagglehub\n",
    "\n",
    "# Download latest version\n",
    "path = kagglehub.dataset_download(\"samahsadiq/benign-and-malicious-urls\")\n",
    "\n",
    "print(\"Path to dataset files:\", path)"
   ]
  },
  {
   "cell_type": "code",
   "execution_count": 3,
   "id": "ca99e260",
   "metadata": {
    "execution": {
     "iopub.execute_input": "2025-08-18T12:08:55.267507Z",
     "iopub.status.busy": "2025-08-18T12:08:55.267317Z",
     "iopub.status.idle": "2025-08-18T12:09:58.882041Z",
     "shell.execute_reply": "2025-08-18T12:09:58.881200Z"
    },
    "papermill": {
     "duration": 63.619735,
     "end_time": "2025-08-18T12:09:58.883262",
     "exception": false,
     "start_time": "2025-08-18T12:08:55.263527",
     "status": "completed"
    },
    "tags": []
   },
   "outputs": [
    {
     "name": "stdout",
     "output_type": "stream",
     "text": [
      "[2025-08-18 12:09:14.582] [CUML] [info] cuML: Installed accelerator for sklearn.\n"
     ]
    },
    {
     "name": "stderr",
     "output_type": "stream",
     "text": [
      "2025-08-18 12:09:31.040237: E external/local_xla/xla/stream_executor/cuda/cuda_fft.cc:477] Unable to register cuFFT factory: Attempting to register factory for plugin cuFFT when one has already been registered\n",
      "WARNING: All log messages before absl::InitializeLog() is called are written to STDERR\n",
      "E0000 00:00:1755518971.435439      19 cuda_dnn.cc:8310] Unable to register cuDNN factory: Attempting to register factory for plugin cuDNN when one has already been registered\n",
      "E0000 00:00:1755518971.547038      19 cuda_blas.cc:1418] Unable to register cuBLAS factory: Attempting to register factory for plugin cuBLAS when one has already been registered\n"
     ]
    },
    {
     "name": "stdout",
     "output_type": "stream",
     "text": [
      "[2025-08-18 12:09:58.740] [CUML] [info] cuML: Installed accelerator for umap.\n",
      "[2025-08-18 12:09:58.858] [CUML] [info] cuML: Installed accelerator for hdbscan.\n",
      "[2025-08-18 12:09:58.858] [CUML] [info] cuML: Successfully initialized accelerator.\n"
     ]
    }
   ],
   "source": [
    "%load_ext cuml.accel\n",
    "from sklearn.model_selection import train_test_split\n",
    "from sklearn.linear_model import LogisticRegression\n",
    "from sklearn.feature_extraction.text import TfidfVectorizer\n",
    "import pandas as pd\n",
    "from scipy.sparse import hstack"
   ]
  },
  {
   "cell_type": "code",
   "execution_count": 4,
   "id": "d1b1a436",
   "metadata": {
    "execution": {
     "iopub.execute_input": "2025-08-18T12:09:58.891422Z",
     "iopub.status.busy": "2025-08-18T12:09:58.890909Z",
     "iopub.status.idle": "2025-08-18T12:10:00.398733Z",
     "shell.execute_reply": "2025-08-18T12:10:00.398010Z"
    },
    "papermill": {
     "duration": 1.51295,
     "end_time": "2025-08-18T12:10:00.399831",
     "exception": false,
     "start_time": "2025-08-18T12:09:58.886881",
     "status": "completed"
    },
    "tags": []
   },
   "outputs": [
    {
     "data": {
      "text/html": [
       "<div>\n",
       "<style scoped>\n",
       "    .dataframe tbody tr th:only-of-type {\n",
       "        vertical-align: middle;\n",
       "    }\n",
       "\n",
       "    .dataframe tbody tr th {\n",
       "        vertical-align: top;\n",
       "    }\n",
       "\n",
       "    .dataframe thead th {\n",
       "        text-align: right;\n",
       "    }\n",
       "</style>\n",
       "<table border=\"1\" class=\"dataframe\">\n",
       "  <thead>\n",
       "    <tr style=\"text-align: right;\">\n",
       "      <th></th>\n",
       "      <th>url</th>\n",
       "      <th>label</th>\n",
       "      <th>result</th>\n",
       "    </tr>\n",
       "  </thead>\n",
       "  <tbody>\n",
       "    <tr>\n",
       "      <th>0</th>\n",
       "      <td>https://www.google.com</td>\n",
       "      <td>benign</td>\n",
       "      <td>0</td>\n",
       "    </tr>\n",
       "    <tr>\n",
       "      <th>1</th>\n",
       "      <td>https://www.youtube.com</td>\n",
       "      <td>benign</td>\n",
       "      <td>0</td>\n",
       "    </tr>\n",
       "    <tr>\n",
       "      <th>2</th>\n",
       "      <td>https://www.facebook.com</td>\n",
       "      <td>benign</td>\n",
       "      <td>0</td>\n",
       "    </tr>\n",
       "    <tr>\n",
       "      <th>3</th>\n",
       "      <td>https://www.baidu.com</td>\n",
       "      <td>benign</td>\n",
       "      <td>0</td>\n",
       "    </tr>\n",
       "    <tr>\n",
       "      <th>4</th>\n",
       "      <td>https://www.wikipedia.org</td>\n",
       "      <td>benign</td>\n",
       "      <td>0</td>\n",
       "    </tr>\n",
       "  </tbody>\n",
       "</table>\n",
       "</div>"
      ],
      "text/plain": [
       "                         url   label  result\n",
       "0     https://www.google.com  benign       0\n",
       "1    https://www.youtube.com  benign       0\n",
       "2   https://www.facebook.com  benign       0\n",
       "3      https://www.baidu.com  benign       0\n",
       "4  https://www.wikipedia.org  benign       0"
      ]
     },
     "execution_count": 4,
     "metadata": {},
     "output_type": "execute_result"
    }
   ],
   "source": [
    "df=pd.read_csv(\"/kaggle/input/benign-and-malicious-urls/balanced_urls.csv\")\n",
    "df.head()"
   ]
  },
  {
   "cell_type": "code",
   "execution_count": 5,
   "id": "7155f082",
   "metadata": {
    "execution": {
     "iopub.execute_input": "2025-08-18T12:10:00.408778Z",
     "iopub.status.busy": "2025-08-18T12:10:00.408123Z",
     "iopub.status.idle": "2025-08-18T12:11:23.360855Z",
     "shell.execute_reply": "2025-08-18T12:11:23.360239Z"
    },
    "papermill": {
     "duration": 82.958223,
     "end_time": "2025-08-18T12:11:23.362298",
     "exception": false,
     "start_time": "2025-08-18T12:10:00.404075",
     "status": "completed"
    },
    "tags": []
   },
   "outputs": [],
   "source": [
    "tfidf = TfidfVectorizer(analyzer='char', ngram_range=(3,5), max_features=5000)\n",
    "X_tfidf = tfidf.fit_transform(df['url'])"
   ]
  },
  {
   "cell_type": "code",
   "execution_count": 6,
   "id": "ca052def",
   "metadata": {
    "execution": {
     "iopub.execute_input": "2025-08-18T12:11:23.370732Z",
     "iopub.status.busy": "2025-08-18T12:11:23.370509Z",
     "iopub.status.idle": "2025-08-18T12:11:31.518796Z",
     "shell.execute_reply": "2025-08-18T12:11:31.518196Z"
    },
    "papermill": {
     "duration": 8.153871,
     "end_time": "2025-08-18T12:11:31.520226",
     "exception": false,
     "start_time": "2025-08-18T12:11:23.366355",
     "status": "completed"
    },
    "tags": []
   },
   "outputs": [],
   "source": [
    "df[\"https\"]=df[\"url\"].str.contains(\"https\").astype(int)\n",
    "df[\"length\"]=df[\"url\"].str.len()\n",
    "df[\"num_digits\"]=df[\"url\"].str.count(r'\\d')\n",
    "df[\"dots\"]=df[\"url\"].str.count(\".\")\n",
    "df[\"at_symbol\"] = df[\"url\"].str.contains(\"@\").astype(int)\n",
    "df[\"hyphen_count\"] = df[\"url\"].str.count(\"-\")\n",
    "\n",
    "X_features = df[[\"https\",\"length\", \"num_digits\", \"dots\", \"at_symbol\", \"hyphen_count\"]]\n",
    "X_combined = hstack([X_tfidf, X_features])\n",
    "y = df[\"result\"]"
   ]
  },
  {
   "cell_type": "code",
   "execution_count": 7,
   "id": "2d1c37f0",
   "metadata": {
    "execution": {
     "iopub.execute_input": "2025-08-18T12:11:31.528715Z",
     "iopub.status.busy": "2025-08-18T12:11:31.528092Z",
     "iopub.status.idle": "2025-08-18T12:11:33.725980Z",
     "shell.execute_reply": "2025-08-18T12:11:33.725341Z"
    },
    "papermill": {
     "duration": 2.203322,
     "end_time": "2025-08-18T12:11:33.727347",
     "exception": false,
     "start_time": "2025-08-18T12:11:31.524025",
     "status": "completed"
    },
    "tags": []
   },
   "outputs": [],
   "source": [
    "X_train, X_test, y_train, y_test = train_test_split(X_combined, y, test_size=0.2, random_state=42)"
   ]
  },
  {
   "cell_type": "code",
   "execution_count": 8,
   "id": "16cacdc1",
   "metadata": {
    "execution": {
     "iopub.execute_input": "2025-08-18T12:11:33.735254Z",
     "iopub.status.busy": "2025-08-18T12:11:33.735046Z",
     "iopub.status.idle": "2025-08-18T12:11:33.739030Z",
     "shell.execute_reply": "2025-08-18T12:11:33.738482Z"
    },
    "papermill": {
     "duration": 0.008991,
     "end_time": "2025-08-18T12:11:33.740050",
     "exception": false,
     "start_time": "2025-08-18T12:11:33.731059",
     "status": "completed"
    },
    "tags": []
   },
   "outputs": [],
   "source": [
    "model=LogisticRegression(solver='saga',max_iter=3000)"
   ]
  },
  {
   "cell_type": "code",
   "execution_count": 9,
   "id": "d16cdfc3",
   "metadata": {
    "execution": {
     "iopub.execute_input": "2025-08-18T12:11:33.747405Z",
     "iopub.status.busy": "2025-08-18T12:11:33.747203Z",
     "iopub.status.idle": "2025-08-18T12:12:03.111552Z",
     "shell.execute_reply": "2025-08-18T12:12:03.110722Z"
    },
    "papermill": {
     "duration": 29.369431,
     "end_time": "2025-08-18T12:12:03.112825",
     "exception": false,
     "start_time": "2025-08-18T12:11:33.743394",
     "status": "completed"
    },
    "tags": []
   },
   "outputs": [
    {
     "data": {
      "text/html": [
       "<style>#sk-container-id-1 {color: black;background-color: white;}#sk-container-id-1 pre{padding: 0;}#sk-container-id-1 div.sk-toggleable {background-color: white;}#sk-container-id-1 label.sk-toggleable__label {cursor: pointer;display: block;width: 100%;margin-bottom: 0;padding: 0.3em;box-sizing: border-box;text-align: center;}#sk-container-id-1 label.sk-toggleable__label-arrow:before {content: \"▸\";float: left;margin-right: 0.25em;color: #696969;}#sk-container-id-1 label.sk-toggleable__label-arrow:hover:before {color: black;}#sk-container-id-1 div.sk-estimator:hover label.sk-toggleable__label-arrow:before {color: black;}#sk-container-id-1 div.sk-toggleable__content {max-height: 0;max-width: 0;overflow: hidden;text-align: left;background-color: #f0f8ff;}#sk-container-id-1 div.sk-toggleable__content pre {margin: 0.2em;color: black;border-radius: 0.25em;background-color: #f0f8ff;}#sk-container-id-1 input.sk-toggleable__control:checked~div.sk-toggleable__content {max-height: 200px;max-width: 100%;overflow: auto;}#sk-container-id-1 input.sk-toggleable__control:checked~label.sk-toggleable__label-arrow:before {content: \"▾\";}#sk-container-id-1 div.sk-estimator input.sk-toggleable__control:checked~label.sk-toggleable__label {background-color: #d4ebff;}#sk-container-id-1 div.sk-label input.sk-toggleable__control:checked~label.sk-toggleable__label {background-color: #d4ebff;}#sk-container-id-1 input.sk-hidden--visually {border: 0;clip: rect(1px 1px 1px 1px);clip: rect(1px, 1px, 1px, 1px);height: 1px;margin: -1px;overflow: hidden;padding: 0;position: absolute;width: 1px;}#sk-container-id-1 div.sk-estimator {font-family: monospace;background-color: #f0f8ff;border: 1px dotted black;border-radius: 0.25em;box-sizing: border-box;margin-bottom: 0.5em;}#sk-container-id-1 div.sk-estimator:hover {background-color: #d4ebff;}#sk-container-id-1 div.sk-parallel-item::after {content: \"\";width: 100%;border-bottom: 1px solid gray;flex-grow: 1;}#sk-container-id-1 div.sk-label:hover label.sk-toggleable__label {background-color: #d4ebff;}#sk-container-id-1 div.sk-serial::before {content: \"\";position: absolute;border-left: 1px solid gray;box-sizing: border-box;top: 0;bottom: 0;left: 50%;z-index: 0;}#sk-container-id-1 div.sk-serial {display: flex;flex-direction: column;align-items: center;background-color: white;padding-right: 0.2em;padding-left: 0.2em;position: relative;}#sk-container-id-1 div.sk-item {position: relative;z-index: 1;}#sk-container-id-1 div.sk-parallel {display: flex;align-items: stretch;justify-content: center;background-color: white;position: relative;}#sk-container-id-1 div.sk-item::before, #sk-container-id-1 div.sk-parallel-item::before {content: \"\";position: absolute;border-left: 1px solid gray;box-sizing: border-box;top: 0;bottom: 0;left: 50%;z-index: -1;}#sk-container-id-1 div.sk-parallel-item {display: flex;flex-direction: column;z-index: 1;position: relative;background-color: white;}#sk-container-id-1 div.sk-parallel-item:first-child::after {align-self: flex-end;width: 50%;}#sk-container-id-1 div.sk-parallel-item:last-child::after {align-self: flex-start;width: 50%;}#sk-container-id-1 div.sk-parallel-item:only-child::after {width: 0;}#sk-container-id-1 div.sk-dashed-wrapped {border: 1px dashed gray;margin: 0 0.4em 0.5em 0.4em;box-sizing: border-box;padding-bottom: 0.4em;background-color: white;}#sk-container-id-1 div.sk-label label {font-family: monospace;font-weight: bold;display: inline-block;line-height: 1.2em;}#sk-container-id-1 div.sk-label-container {text-align: center;}#sk-container-id-1 div.sk-container {/* jupyter's `normalize.less` sets `[hidden] { display: none; }` but bootstrap.min.css set `[hidden] { display: none !important; }` so we also need the `!important` here to be able to override the default hidden behavior on the sphinx rendered scikit-learn.org. See: https://github.com/scikit-learn/scikit-learn/issues/21755 */display: inline-block !important;position: relative;}#sk-container-id-1 div.sk-text-repr-fallback {display: none;}</style><div id=\"sk-container-id-1\" class=\"sk-top-container\"><div class=\"sk-text-repr-fallback\"><pre>LogisticRegression(max_iter=3000, solver=&#x27;saga&#x27;)</pre><b>In a Jupyter environment, please rerun this cell to show the HTML representation or trust the notebook. <br />On GitHub, the HTML representation is unable to render, please try loading this page with nbviewer.org.</b></div><div class=\"sk-container\" hidden><div class=\"sk-item\"><div class=\"sk-estimator sk-toggleable\"><input class=\"sk-toggleable__control sk-hidden--visually\" id=\"sk-estimator-id-1\" type=\"checkbox\" checked><label for=\"sk-estimator-id-1\" class=\"sk-toggleable__label sk-toggleable__label-arrow\">LogisticRegression</label><div class=\"sk-toggleable__content\"><pre>LogisticRegression(max_iter=3000, solver=&#x27;saga&#x27;)</pre></div></div></div></div></div>"
      ],
      "text/plain": [
       "LogisticRegression(max_iter=3000, solver='saga')"
      ]
     },
     "execution_count": 9,
     "metadata": {},
     "output_type": "execute_result"
    }
   ],
   "source": [
    "model.fit(X_train, y_train)"
   ]
  },
  {
   "cell_type": "code",
   "execution_count": 10,
   "id": "2c6e257d",
   "metadata": {
    "execution": {
     "iopub.execute_input": "2025-08-18T12:12:03.121973Z",
     "iopub.status.busy": "2025-08-18T12:12:03.121699Z",
     "iopub.status.idle": "2025-08-18T12:12:03.401724Z",
     "shell.execute_reply": "2025-08-18T12:12:03.401167Z"
    },
    "papermill": {
     "duration": 0.28608,
     "end_time": "2025-08-18T12:12:03.403157",
     "exception": false,
     "start_time": "2025-08-18T12:12:03.117077",
     "status": "completed"
    },
    "tags": []
   },
   "outputs": [],
   "source": [
    "y_pred=model.predict(X_test)"
   ]
  },
  {
   "cell_type": "code",
   "execution_count": 11,
   "id": "8d373486",
   "metadata": {
    "execution": {
     "iopub.execute_input": "2025-08-18T12:12:03.411470Z",
     "iopub.status.busy": "2025-08-18T12:12:03.411243Z",
     "iopub.status.idle": "2025-08-18T12:12:03.442139Z",
     "shell.execute_reply": "2025-08-18T12:12:03.441517Z"
    },
    "papermill": {
     "duration": 0.036227,
     "end_time": "2025-08-18T12:12:03.443304",
     "exception": false,
     "start_time": "2025-08-18T12:12:03.407077",
     "status": "completed"
    },
    "tags": []
   },
   "outputs": [
    {
     "name": "stdout",
     "output_type": "stream",
     "text": [
      "Accuracy: 0.9973689408604276\n"
     ]
    }
   ],
   "source": [
    "from sklearn.metrics import f1_score\n",
    "print(\"Accuracy:\", f1_score(y_test, y_pred))"
   ]
  },
  {
   "cell_type": "code",
   "execution_count": 12,
   "id": "bf218ed2",
   "metadata": {
    "execution": {
     "iopub.execute_input": "2025-08-18T12:12:03.452290Z",
     "iopub.status.busy": "2025-08-18T12:12:03.451799Z",
     "iopub.status.idle": "2025-08-18T12:12:03.628308Z",
     "shell.execute_reply": "2025-08-18T12:12:03.627487Z"
    },
    "papermill": {
     "duration": 0.181853,
     "end_time": "2025-08-18T12:12:03.629504",
     "exception": false,
     "start_time": "2025-08-18T12:12:03.447651",
     "status": "completed"
    },
    "tags": []
   },
   "outputs": [
    {
     "name": "stdout",
     "output_type": "stream",
     "text": [
      "Confusion Matrix:\n",
      " [[63053    82]\n",
      " [  251 63116]]\n",
      "Classification Report:\n",
      "               precision    recall  f1-score   support\n",
      "\n",
      "           0       1.00      1.00      1.00     63135\n",
      "           1       1.00      1.00      1.00     63367\n",
      "\n",
      "    accuracy                           1.00    126502\n",
      "   macro avg       1.00      1.00      1.00    126502\n",
      "weighted avg       1.00      1.00      1.00    126502\n",
      "\n"
     ]
    }
   ],
   "source": [
    "from sklearn.metrics import classification_report, confusion_matrix\n",
    "\n",
    "y_pred = model.predict(X_test)\n",
    "print(\"Confusion Matrix:\\n\", confusion_matrix(y_test, y_pred))\n",
    "print(\"Classification Report:\\n\", classification_report(y_test, y_pred))\n"
   ]
  },
  {
   "cell_type": "code",
   "execution_count": 13,
   "id": "da8e750e",
   "metadata": {
    "execution": {
     "iopub.execute_input": "2025-08-18T12:12:03.637925Z",
     "iopub.status.busy": "2025-08-18T12:12:03.637451Z",
     "iopub.status.idle": "2025-08-18T12:12:03.660230Z",
     "shell.execute_reply": "2025-08-18T12:12:03.659739Z"
    },
    "papermill": {
     "duration": 0.02795,
     "end_time": "2025-08-18T12:12:03.661211",
     "exception": false,
     "start_time": "2025-08-18T12:12:03.633261",
     "status": "completed"
    },
    "tags": []
   },
   "outputs": [],
   "source": [
    "import json\n",
    "\n",
    "# Convert vocab keys to str and values to int\n",
    "vocab_clean = {str(k): int(v) for k, v in tfidf.vocabulary_.items()}\n",
    "\n",
    "# Save cleaned vocab\n",
    "with open(\"vocab.json\", \"w\") as f:\n",
    "    json.dump(vocab_clean, f)\n",
    "\n",
    "# Convert IDF to Python list of floats\n",
    "idf_clean = [float(x) for x in tfidf.idf_]\n",
    "\n",
    "# Save IDF\n",
    "with open(\"idf.json\", \"w\") as f:\n",
    "    json.dump(idf_clean, f)\n"
   ]
  },
  {
   "cell_type": "code",
   "execution_count": 14,
   "id": "fed36767",
   "metadata": {
    "execution": {
     "iopub.execute_input": "2025-08-18T12:12:03.669263Z",
     "iopub.status.busy": "2025-08-18T12:12:03.668749Z",
     "iopub.status.idle": "2025-08-18T12:12:04.107508Z",
     "shell.execute_reply": "2025-08-18T12:12:04.106903Z"
    },
    "papermill": {
     "duration": 0.443991,
     "end_time": "2025-08-18T12:12:04.108718",
     "exception": false,
     "start_time": "2025-08-18T12:12:03.664727",
     "status": "completed"
    },
    "tags": []
   },
   "outputs": [],
   "source": [
    "from skl2onnx import convert_sklearn\n",
    "from skl2onnx.common.data_types import FloatTensorType\n",
    "\n",
    "# your trained model\n",
    "# e.g., model = sklearn.pipeline.Pipeline(...)\n",
    "\n",
    "initial_type = [('input', FloatTensorType([None, 5006]))]\n",
    "\n",
    "# Disable zipmap to remove the unsupported dictionary output\n",
    "onnx_model = convert_sklearn(\n",
    "    model,\n",
    "    initial_types=initial_type,\n",
    "    options={id(model): {'zipmap': False}}\n",
    ")\n",
    "\n",
    "with open(\"logreg_url_model.onnx\", \"wb\") as f:\n",
    "    f.write(onnx_model.SerializeToString())"
   ]
  },
  {
   "cell_type": "code",
   "execution_count": 15,
   "id": "6f437e08",
   "metadata": {
    "execution": {
     "iopub.execute_input": "2025-08-18T12:12:04.117022Z",
     "iopub.status.busy": "2025-08-18T12:12:04.116615Z",
     "iopub.status.idle": "2025-08-18T12:12:04.121224Z",
     "shell.execute_reply": "2025-08-18T12:12:04.120664Z"
    },
    "papermill": {
     "duration": 0.009803,
     "end_time": "2025-08-18T12:12:04.122292",
     "exception": false,
     "start_time": "2025-08-18T12:12:04.112489",
     "status": "completed"
    },
    "tags": []
   },
   "outputs": [
    {
     "data": {
      "text/plain": [
       "'/kaggle/working/logreg_url_model.onnx'"
      ]
     },
     "execution_count": 15,
     "metadata": {},
     "output_type": "execute_result"
    }
   ],
   "source": [
    "import shutil\n",
    "\n",
    "shutil.move(\"vocab.json\", \"/kaggle/working/vocab.json\")\n",
    "shutil.move(\"idf.json\", \"/kaggle/working/idf.json\")\n",
    "shutil.move(\"logreg_url_model.onnx\", \"/kaggle/working/logreg_url_model.onnx\") "
   ]
  }
 ],
 "metadata": {
  "kaggle": {
   "accelerator": "nvidiaTeslaT4",
   "dataSources": [
    {
     "datasetId": 2378722,
     "sourceId": 4012851,
     "sourceType": "datasetVersion"
    }
   ],
   "dockerImageVersionId": 31040,
   "isGpuEnabled": true,
   "isInternetEnabled": true,
   "language": "python",
   "sourceType": "notebook"
  },
  "kernelspec": {
   "display_name": "Python 3",
   "language": "python",
   "name": "python3"
  },
  "language_info": {
   "codemirror_mode": {
    "name": "ipython",
    "version": 3
   },
   "file_extension": ".py",
   "mimetype": "text/x-python",
   "name": "python",
   "nbconvert_exporter": "python",
   "pygments_lexer": "ipython3",
   "version": "3.11.11"
  },
  "papermill": {
   "default_parameters": {},
   "duration": 207.312256,
   "end_time": "2025-08-18T12:12:07.841468",
   "environment_variables": {},
   "exception": null,
   "input_path": "__notebook__.ipynb",
   "output_path": "__notebook__.ipynb",
   "parameters": {},
   "start_time": "2025-08-18T12:08:40.529212",
   "version": "2.6.0"
  }
 },
 "nbformat": 4,
 "nbformat_minor": 5
}
